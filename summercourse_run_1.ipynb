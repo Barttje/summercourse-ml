{
  "nbformat": 4,
  "nbformat_minor": 0,
  "metadata": {
    "colab": {
      "name": "neural_network_1.ipynb",
      "version": "0.3.2",
      "provenance": [],
      "include_colab_link": true
    },
    "kernelspec": {
      "name": "python2",
      "display_name": "Python 2"
    }
  },
  "cells": [
    {
      "cell_type": "markdown",
      "metadata": {
        "id": "view-in-github",
        "colab_type": "text"
      },
      "source": [
        "<a href=\"https://colab.research.google.com/github/Barttje/summercourse-ml/blob/master/summercourse_run_1.ipynb\" target=\"_parent\"><img src=\"https://colab.research.google.com/assets/colab-badge.svg\" alt=\"Open In Colab\"/></a>"
      ]
    },
    {
      "cell_type": "markdown",
      "metadata": {
        "id": "Zt3QsZrmpHsM",
        "colab_type": "text"
      },
      "source": [
        "**Important!**  Set your hardware accelator to GPU. This can be done by selecting *Runtime* in the menu,  choose *Change runtime type* and set Hardware accelator to **GPU**.\n",
        "# Codecentric Summercourse ML \n",
        "This is part one of the summercourse ML organised by Codecentric. \n",
        "## Neural network\n",
        "In this tutorial we are going to explain how to create a neural network in Keras that is used for classifying the MNIST fashion data set. This is a dataset of 60.000 Zalando's article images.\n",
        "Each training and test example is assigned to one of the following labels:\n",
        "0. T-Shirt\n",
        "1. Trouser\n",
        "2. Pullover\n",
        "3. Dress\n",
        "4. Coat\n",
        "5. Sandal\n",
        "6. Shirt\n",
        "7. Sneaker\n",
        "8. Bag\n",
        "9. Ankle boot \n",
        "\n",
        "More information about the data set can be found [here](https://www.kaggle.com/zalando-research/fashionmnist).\n"
      ]
    },
    {
      "cell_type": "markdown",
      "metadata": {
        "id": "feiNW8bqyI1c",
        "colab_type": "text"
      },
      "source": [
        "#Imports"
      ]
    },
    {
      "cell_type": "code",
      "metadata": {
        "id": "TJX7HcvQpFyW",
        "colab_type": "code",
        "outputId": "917e900a-2255-4b94-cf5e-4aa09069dae7",
        "colab": {
          "base_uri": "https://localhost:8080/",
          "height": 34
        }
      },
      "source": [
        "import tensorflow as tf\n",
        "tf.logging.set_verbosity(tf.logging.ERROR)\n",
        "\n",
        "import keras # needed for the keras.utils\n",
        "from keras.datasets import fashion_mnist # the data set\n",
        "from keras.layers import Dense, Dropout # the layers we will be using in this example\n",
        "from keras.models import Sequential # The model we will be using in this example\n",
        "import matplotlib.pyplot as plt # A standard library for showing images\n",
        "import numpy as np # For data processing, we use this to convert a single image to an array"
      ],
      "execution_count": 1,
      "outputs": [
        {
          "output_type": "stream",
          "text": [
            "Using TensorFlow backend.\n"
          ],
          "name": "stderr"
        }
      ]
    },
    {
      "cell_type": "markdown",
      "metadata": {
        "id": "hmfihgWCyESp",
        "colab_type": "text"
      },
      "source": [
        "#Data preprocessing"
      ]
    },
    {
      "cell_type": "code",
      "metadata": {
        "id": "voxKUe00uvtq",
        "colab_type": "code",
        "outputId": "fc8c099e-2a59-4d06-c9a4-1e2754d6a1c0",
        "colab": {
          "base_uri": "https://localhost:8080/",
          "height": 34
        }
      },
      "source": [
        "labels = {0:\"T-Shirt\", 1:\"Trouser\", 2:\"Pullover\", 3:\"Dress\", 4:\"Coat\",5:\"Sandal\",6:\"Shirt\",7:\"Sneaker\",8:\"Bag\",9:\"Ankle boot\"}\n",
        "print(labels[2])"
      ],
      "execution_count": 2,
      "outputs": [
        {
          "output_type": "stream",
          "text": [
            "Pullover\n"
          ],
          "name": "stdout"
        }
      ]
    },
    {
      "cell_type": "markdown",
      "metadata": {
        "id": "sVpnfu_rAqK7",
        "colab_type": "text"
      },
      "source": [
        "\n",
        "Create a mapper to translate the labels to the names they represent."
      ]
    },
    {
      "cell_type": "code",
      "metadata": {
        "id": "ihNPU7HyIlUk",
        "colab_type": "code",
        "outputId": "1e9f58ab-8d15-4dd0-dfde-ac2aa2dfc4bd",
        "colab": {
          "base_uri": "https://localhost:8080/",
          "height": 153
        }
      },
      "source": [
        "(x_train_input, y_train_input), (x_test_input, y_test_input) = fashion_mnist.load_data()"
      ],
      "execution_count": 3,
      "outputs": [
        {
          "output_type": "stream",
          "text": [
            "Downloading data from http://fashion-mnist.s3-website.eu-central-1.amazonaws.com/train-labels-idx1-ubyte.gz\n",
            "32768/29515 [=================================] - 0s 3us/step\n",
            "Downloading data from http://fashion-mnist.s3-website.eu-central-1.amazonaws.com/train-images-idx3-ubyte.gz\n",
            "26427392/26421880 [==============================] - 2s 0us/step\n",
            "Downloading data from http://fashion-mnist.s3-website.eu-central-1.amazonaws.com/t10k-labels-idx1-ubyte.gz\n",
            "8192/5148 [===============================================] - 0s 0us/step\n",
            "Downloading data from http://fashion-mnist.s3-website.eu-central-1.amazonaws.com/t10k-images-idx3-ubyte.gz\n",
            "4423680/4422102 [==============================] - 1s 0us/step\n"
          ],
          "name": "stdout"
        }
      ]
    },
    {
      "cell_type": "markdown",
      "metadata": {
        "id": "yYR2Uo4rKGwi",
        "colab_type": "text"
      },
      "source": [
        "The load_data() function on the dataset can be used for the datasets that are included in Keras. The other datasets that can be loaded in the same way can be found on the [Keras website](https://keras.io/datasets/). \n",
        "The load_data() function returns the train and test data set for the MNIST fashion data set. Both the test and train data are divided in two parts, the images and the labels. *x_train_input* contains all the images we are going to use to train the neural network. The *y_train_input* contains all the labels for those images. \n"
      ]
    },
    {
      "cell_type": "code",
      "metadata": {
        "id": "Fu1IyLtRI_Ga",
        "colab_type": "code",
        "outputId": "cc28f429-f354-4711-efee-9e39821cb4c5",
        "colab": {
          "base_uri": "https://localhost:8080/",
          "height": 303
        }
      },
      "source": [
        "image_index = 8921 # Can be any number between 0 and 59999\n",
        "print(y_train_input[image_index], labels[y_train_input[image_index]])\n",
        "plt.imshow(x_train_input[image_index])\n"
      ],
      "execution_count": 4,
      "outputs": [
        {
          "output_type": "stream",
          "text": [
            "1 Trouser\n"
          ],
          "name": "stdout"
        },
        {
          "output_type": "execute_result",
          "data": {
            "text/plain": [
              "<matplotlib.image.AxesImage at 0x7f97173e0dd8>"
            ]
          },
          "metadata": {
            "tags": []
          },
          "execution_count": 4
        },
        {
          "output_type": "display_data",
          "data": {
            "image/png": "[encoded data removed]",
            "text/plain": [
              "<Figure size 432x288 with 1 Axes>"
            ]
          },
          "metadata": {
            "tags": []
          }
        }
      ]
    },
    {
      "cell_type": "markdown",
      "metadata": {
        "id": "vgeVD46YKAXb",
        "colab_type": "text"
      },
      "source": [
        "The *matplotlib.pyplot as plt* can be used to show the images in the dataset. \n",
        "We also print the label of that image, which is a number between 1 and 9. With the mapping we can convert this number to the name that this number represents.\n"
      ]
    },
    {
      "cell_type": "code",
      "metadata": {
        "id": "VRuWSJFxP4c4",
        "colab_type": "code",
        "outputId": "8d493c59-ea8d-46bb-fd8e-02e1be9cf440",
        "colab": {
          "base_uri": "https://localhost:8080/",
          "height": 51
        }
      },
      "source": [
        "print(x_train_input.shape, y_train_input.shape, x_test_input.shape, y_test_input.shape)\n",
        "print(x_train_input[8921][26][22])"
      ],
      "execution_count": 5,
      "outputs": [
        {
          "output_type": "stream",
          "text": [
            "(60000, 28, 28) (60000,) (10000, 28, 28) (10000,)\n",
            "229\n"
          ],
          "name": "stdout"
        }
      ]
    },
    {
      "cell_type": "markdown",
      "metadata": {
        "id": "7dMGDTALRXE4",
        "colab_type": "text"
      },
      "source": [
        "In machine learning it is really important to understand and have a feeling for the shapes of the data. \n",
        " We need to make sure the input data matches the first layer of the model and the output matches the output of the final layer of the model. Above we printed the shape of each data. For *x_train_input* this is (60000, 28, 28). This means we have a three-dimensional array that contains 60.000 * 28 * 28 data points (~47 million). The 60.000 are the number of images we have in the dataset. The 28, 28 are the height and the width of the images in pixels. Each datapoint is a number between 0 and 255, which represents the darkness of that pixel. \n",
        "\n",
        "The *y_train_input* is (60000,) which is a array with 60.000 datapoints. Each datapoint represent the label of the image and is a number between 0 and 9. \n",
        "\n",
        "*x_test_input* and *y_test_input* are similar to *x_train_input* and *y_train_input*, only with a different amount of images. "
      ]
    },
    {
      "cell_type": "code",
      "metadata": {
        "id": "OJ73y917P8pB",
        "colab_type": "code",
        "outputId": "b60efcd0-f7f5-4237-9647-7e4f51061d65",
        "colab": {
          "base_uri": "https://localhost:8080/",
          "height": 34
        }
      },
      "source": [
        "image_size = x_train_input.shape[1] * x_train_input.shape[2] # shape was 60000, 28, 28. So the images are 28 by 28\n",
        "# x_train.shape[0] is the amount of images. \n",
        "x_train = x_train_input.reshape(x_train_input.shape[0], image_size) # Transform from matrix to vector\n",
        "x_train = x_train.astype('float32') # convert the values to values that can be divided in python\n",
        "x_train /= 255 # Normalize inputs from 0-255 to 0.0-1.0\n",
        "\n",
        "x_test = x_test_input.reshape(x_test_input.shape[0], image_size) # Transform from matrix to vector\n",
        "x_test = x_test.astype('float32') # convert the values to values that can be divided in python\n",
        "x_test /= 255 # Normalize inputs from 0-255 to 0.0-1.0\n",
        "\n",
        "print(x_train.shape)"
      ],
      "execution_count": 38,
      "outputs": [
        {
          "output_type": "stream",
          "text": [
            "(60000, 784)\n"
          ],
          "name": "stdout"
        }
      ]
    },
    {
      "cell_type": "markdown",
      "metadata": {
        "id": "LSYNQsx7TZh-",
        "colab_type": "text"
      },
      "source": [
        "The neural network that we are creating is not expecting two dimensional data. (*There are layers that accept two dimensional arrays, which we will see in the next part*) So we have translate the input data into a format the neural network can handle. We can use the reshape function to change the format from a (60000, 28, 28) to a  (60000, 784) array. Furthermore we normalize the data between 0.0 and 1.0, by dividing by 255. "
      ]
    },
    {
      "cell_type": "code",
      "metadata": {
        "id": "IhQ52etaWwle",
        "colab_type": "code",
        "outputId": "15fadf01-17e7-4ad9-9ead-21cb071c2804",
        "colab": {
          "base_uri": "https://localhost:8080/",
          "height": 68
        }
      },
      "source": [
        "num_classes = 10\n",
        "y_train = keras.utils.to_categorical(y_train_input, num_classes)\n",
        "y_test = keras.utils.to_categorical(y_test_input, num_classes)\n",
        "print(y_train.shape, y_test.shape)\n",
        "\n",
        "index_y = 3\n",
        "print(y_train[index_y])\n",
        "print(y_train_input[index_y])\n"
      ],
      "execution_count": 7,
      "outputs": [
        {
          "output_type": "stream",
          "text": [
            "(60000, 10) (10000, 10)\n",
            "[0. 0. 0. 1. 0. 0. 0. 0. 0. 0.]\n",
            "3\n"
          ],
          "name": "stdout"
        }
      ]
    },
    {
      "cell_type": "markdown",
      "metadata": {
        "id": "8J-drBQ_ZN-Q",
        "colab_type": "text"
      },
      "source": [
        "We also have to change the format of the labels, since the numerical values of the labels have no relation with each other. To do this, we can use the keras utils to map each label to a single column. Each Shirt (0), has 1 in the first column. All other labels have 0 in that column. This means the model will output a single value for each item. \n",
        "\n",
        "![wow](https://github.com/Barttje/summercourse-ml/blob/master/one_hot_encoding.png?raw=true)\n",
        "\n"
      ]
    },
    {
      "cell_type": "markdown",
      "metadata": {
        "id": "TLJJOvYKyQtT",
        "colab_type": "text"
      },
      "source": [
        "#Creating and training the neural network"
      ]
    },
    {
      "cell_type": "code",
      "metadata": {
        "id": "rnOSVRnFYKH6",
        "colab_type": "code",
        "outputId": "f553c922-5dc3-4abf-8963-7c8b894c80e5",
        "colab": {
          "base_uri": "https://localhost:8080/",
          "height": 51
        }
      },
      "source": [
        "neurons_in_hidden_layer=512\n",
        "model = Sequential()\n",
        "model.add(Dense(units=neurons_in_hidden_layer, activation='relu', input_shape=(image_size,))) # Input layer - > Hidden Layer\n",
        "#model.add(Dropout(0.5)) # see section overfitting\n",
        "model.add(Dense(units=num_classes, activation='softmax')) # Hidden Layer -> Output layer\n",
        "model.compile(optimizer=\"adam\", loss='categorical_crossentropy', metrics=[\"accuracy\"])\n",
        "\n",
        "print(\"input: \", model.input)\n",
        "print(\"output: \", model.output)"
      ],
      "execution_count": 8,
      "outputs": [
        {
          "output_type": "stream",
          "text": [
            "input:  Tensor(\"dense_1_input:0\", shape=(?, 784), dtype=float32)\n",
            "output:  Tensor(\"dense_2/Softmax:0\", shape=(?, 10), dtype=float32)\n"
          ],
          "name": "stdout"
        }
      ]
    },
    {
      "cell_type": "markdown",
      "metadata": {
        "id": "qDyP7Nz3ZKu3",
        "colab_type": "text"
      },
      "source": [
        "So here we have defined three layers in the model. Although it looks like we only added two layers to the model, we are adding connectinons between layers to our model. So in our model, the first dense layer is the connection between the input layer and the hidden layer. The second dense layer is the connection between the hidden layer and the output layer.  ![alt text](https://raw.githubusercontent.com/Barttje/summercourse-ml/master/Neural_network_fashion_1.png)\n",
        "\n",
        "So the first dense layer has as input the image size, since this has to match with *x_training*. The units are the outputs of a layer, which we set to 512 for the first layer. This also means that the second dense layer has as input the 512 values, which we do not have to configure. As output ( units) for this layers we define the number of classes. This has to match the shape of the *y_training*.\n",
        "\n",
        "To see if we did this correctly the following will print the input and the output the model expects. \n",
        "```\n",
        "print(\"input: \", model.input)\n",
        "print(\"output: \", model.input)\n",
        "\n",
        "```\n",
        "\n",
        "In our case it will print the following: \n",
        "\n",
        "*input:  Tensor(\"dense_19_input:0\", shape=(?, 784), dtype=float32)*\n",
        "\n",
        "*output:  Tensor(\"dense_20/Softmax:0\", shape=(?, 10), dtype=float32)*\n",
        "\n",
        "The input for the model is shape *(?, 784)*, which means a two dimensional array where the second dimension has 784 values. It does not matter how many images we have, but they have to be of size 784. Which has to match the shape of *X_training* and *X_test*\n",
        "\n",
        "The output of the model is shape *(?,10)*, which means we get 10 values for each image we put in the model. A prediction for each possible item, which has to match the shape of our *y_training* and *y_test*.\n",
        "\n",
        "The other parameters for the models are the activation function, which is usually *relu*, but when you are dealing with a classification problem the *softmax* activation function is a good idea for the last layer. More information about the possible activation functions in Keras can be found [here](https://keras.io/activations/). More information about the theory behind activation functions can be found [here](https://medium.com/the-theory-of-everything/understanding-activation-functions-in-neural-networks-9491262884e0). \n",
        "\n",
        "We can also configure the optimizer, which is the algortihm that updates the weights during training. *adam* is the most popular one, so we use that one. More information about the possible optimizers in Keras can be found [here](https://keras.io/optimizers/) and more information about the theory behind optizimers can be found [here](https://towardsdatascience.com/types-of-optimization-algorithms-used-in-neural-networks-and-ways-to-optimize-gradient-95ae5d39529f). \n",
        "\n",
        "Finally we configure the loss function during training. The loss functions measures how well the model is working on the data set. One of the most popular ones is the mean squared error. However for classification problems that predict 0 or 1, the *categorical_crossentropy* works better. All the possible  loss functions in Keras can be found [here](https://keras.io/losses/) and [this](https://machinelearningmastery.com/how-to-choose-loss-functions-when-training-deep-learning-neural-networks/) is a great article explaining more about which one to choose."
      ]
    },
    {
      "cell_type": "code",
      "metadata": {
        "id": "nHjoWHgCYUyo",
        "colab_type": "code",
        "outputId": "5baa6036-af2e-4dce-b03c-b093719f2182",
        "colab": {
          "base_uri": "https://localhost:8080/",
          "height": 544
        }
      },
      "source": [
        "epochs = 15\n",
        "history = model.fit(x_train, y_train, validation_split=0.8, epochs=epochs)"
      ],
      "execution_count": 9,
      "outputs": [
        {
          "output_type": "stream",
          "text": [
            "Train on 11999 samples, validate on 48001 samples\n",
            "Epoch 1/15\n",
            "11999/11999 [==============================] - 6s 490us/step - loss: 0.6226 - acc: 0.7854 - val_loss: 0.5264 - val_acc: 0.8140\n",
            "Epoch 2/15\n",
            "11999/11999 [==============================] - 5s 417us/step - loss: 0.4572 - acc: 0.8361 - val_loss: 0.4434 - val_acc: 0.8437\n",
            "Epoch 3/15\n",
            "11999/11999 [==============================] - 5s 425us/step - loss: 0.3973 - acc: 0.8576 - val_loss: 0.4536 - val_acc: 0.8364\n",
            "Epoch 4/15\n",
            "11999/11999 [==============================] - 5s 416us/step - loss: 0.3590 - acc: 0.8678 - val_loss: 0.4128 - val_acc: 0.8577\n",
            "Epoch 5/15\n",
            "11999/11999 [==============================] - 5s 417us/step - loss: 0.3276 - acc: 0.8783 - val_loss: 0.4156 - val_acc: 0.8546\n",
            "Epoch 6/15\n",
            "11999/11999 [==============================] - 5s 420us/step - loss: 0.3126 - acc: 0.8862 - val_loss: 0.3883 - val_acc: 0.8630\n",
            "Epoch 7/15\n",
            "11999/11999 [==============================] - 5s 424us/step - loss: 0.2919 - acc: 0.8944 - val_loss: 0.3947 - val_acc: 0.8614\n",
            "Epoch 8/15\n",
            "11999/11999 [==============================] - 5s 412us/step - loss: 0.2727 - acc: 0.8978 - val_loss: 0.3944 - val_acc: 0.8644\n",
            "Epoch 9/15\n",
            "11999/11999 [==============================] - 5s 415us/step - loss: 0.2617 - acc: 0.9011 - val_loss: 0.3760 - val_acc: 0.8727\n",
            "Epoch 10/15\n",
            "11999/11999 [==============================] - 5s 420us/step - loss: 0.2472 - acc: 0.9077 - val_loss: 0.4071 - val_acc: 0.8637\n",
            "Epoch 11/15\n",
            "11999/11999 [==============================] - 5s 417us/step - loss: 0.2372 - acc: 0.9122 - val_loss: 0.4235 - val_acc: 0.8599\n",
            "Epoch 12/15\n",
            "11999/11999 [==============================] - 5s 413us/step - loss: 0.2340 - acc: 0.9107 - val_loss: 0.4054 - val_acc: 0.8617\n",
            "Epoch 13/15\n",
            "11999/11999 [==============================] - 5s 406us/step - loss: 0.2168 - acc: 0.9189 - val_loss: 0.3834 - val_acc: 0.8773\n",
            "Epoch 14/15\n",
            "11999/11999 [==============================] - 5s 398us/step - loss: 0.2062 - acc: 0.9224 - val_loss: 0.3869 - val_acc: 0.8751\n",
            "Epoch 15/15\n",
            "11999/11999 [==============================] - 5s 419us/step - loss: 0.1933 - acc: 0.9295 - val_loss: 0.4409 - val_acc: 0.8620\n"
          ],
          "name": "stdout"
        }
      ]
    },
    {
      "cell_type": "markdown",
      "metadata": {
        "id": "j50yPJq6ZFY4",
        "colab_type": "text"
      },
      "source": [
        "Here we are going to actually start the training of the model. The most important is the *x_train* and *y_train*. They have to match the input and the output of the model, otherwise we cannot start training. Another import value is the number of epochs, which is the amount of times the whole data set is send through the neural network. Another paramater we will use is the validation split. This means the training will not use all the data, but split it. With *0.2*, we will use *12000/60000* images as validation images. Those will not be used for training the neural network, but after each epoch, the model will also compute the loss and the accuracy for the validation data set. This can be used to detect overfitting and underfitting as we we will explain later. \n",
        "\n"
      ]
    },
    {
      "cell_type": "code",
      "metadata": {
        "id": "O_9m3bWmYzZi",
        "colab_type": "code",
        "outputId": "62ba4d14-1c96-4267-98a5-8e01b0787a3f",
        "colab": {
          "base_uri": "https://localhost:8080/",
          "height": 51
        }
      },
      "source": [
        "loss, accuracy  = model.evaluate(x_test, y_test)\n",
        "print(loss, accuracy)"
      ],
      "execution_count": 10,
      "outputs": [
        {
          "output_type": "stream",
          "text": [
            "10000/10000 [==============================] - 0s 47us/step\n",
            "0.47410555620193484 0.8493\n"
          ],
          "name": "stdout"
        }
      ]
    },
    {
      "cell_type": "markdown",
      "metadata": {
        "id": "zueKzFx_Y-0L",
        "colab_type": "text"
      },
      "source": [
        "Time to evaluate the model! With model.evaluate(), we can evaluate the model on the test data we kept apart. It is very important that the *x_test* matches the input of the model and *y_test* matches the output of the model. (*We keep repeating this, but is a mistake made very often when starting with Machine Learning)* This will print two scores the accuracy and the loss. Accuracy is the right predictions divided by the number of predictions. The loss is the value computed by the loss function, which hugely depends on the loss function. To get an impression of your scores, it is always good to compare the loss and the accuracy with the loss and the accuracy of the model. "
      ]
    },
    {
      "cell_type": "markdown",
      "metadata": {
        "id": "zsQl05l3yXDW",
        "colab_type": "text"
      },
      "source": [
        "#Applying the model"
      ]
    },
    {
      "cell_type": "code",
      "metadata": {
        "id": "pIgN8-_4ZRNO",
        "colab_type": "code",
        "outputId": "0cfd319a-fbc2-467e-f5b0-1b6df47de1cc",
        "colab": {
          "base_uri": "https://localhost:8080/",
          "height": 354
        }
      },
      "source": [
        "index = 6293\n",
        "image_flat = np.array([x_test[index]]) # we have to make an array of the image as the model expects (?,784) as input.\n",
        "pred = model.predict(image_flat) \n",
        "print(pred)\n",
        "print(pred.argmax(), labels[pred.argmax()]) #argmax prints the index of the highest value\n",
        "print(y_test[index].argmax(), labels[y_test[index].argmax()] )\n",
        "plt.imshow(x_test_input[index])\n",
        "\n"
      ],
      "execution_count": 11,
      "outputs": [
        {
          "output_type": "stream",
          "text": [
            "[[2.3878768e-01 2.5759279e-03 8.2438142e-04 4.0980607e-01 4.0266977e-04\n",
            "  2.1369309e-05 3.4755906e-01 3.4685942e-07 1.4250134e-05 8.2871366e-06]]\n",
            "3 Dress\n",
            "0 T-Shirt\n"
          ],
          "name": "stdout"
        },
        {
          "output_type": "execute_result",
          "data": {
            "text/plain": [
              "<matplotlib.image.AxesImage at 0x7f970f29db00>"
            ]
          },
          "metadata": {
            "tags": []
          },
          "execution_count": 11
        },
        {
          "output_type": "display_data",
          "data": {
            "image/png": "[encoded data removed]",
            "text/plain": [
              "<Figure size 432x288 with 1 Axes>"
            ]
          },
          "metadata": {
            "tags": []
          }
        }
      ]
    },
    {
      "cell_type": "markdown",
      "metadata": {
        "id": "laSiVkUBeCpT",
        "colab_type": "text"
      },
      "source": [
        "With model.predict(image), we can predict the scores for a single image. Remember that we have to convert the image to an array, since the model is expecting *(?,784)* as input."
      ]
    },
    {
      "cell_type": "code",
      "metadata": {
        "id": "lw49O5z7wGtt",
        "colab_type": "code",
        "outputId": "7441b017-caef-4a6c-c644-a1506a72321e",
        "colab": {
          "base_uri": "https://localhost:8080/",
          "height": 573
        }
      },
      "source": [
        "# list all data in history\n",
        "# summarize history for accuracy\n",
        "plt.plot(history.history['acc'])\n",
        "plt.plot(history.history['val_acc'])\n",
        "plt.title('model accuracy')\n",
        "plt.ylabel('accuracy')\n",
        "plt.xlabel('epoch')\n",
        "plt.legend(['train', 'test'], loc='upper left')\n",
        "plt.show()\n",
        "# summarize history for loss\n",
        "plt.plot(history.history['loss'])\n",
        "plt.plot(history.history['val_loss'])\n",
        "plt.title('model loss')\n",
        "plt.ylabel('loss')\n",
        "plt.xlabel('epoch')\n",
        "plt.legend(['train', 'test'], loc='upper left')\n",
        "plt.show()"
      ],
      "execution_count": 12,
      "outputs": [
        {
          "output_type": "display_data",
          "data": {
            "image/png": "[encoded data removed]",
            "text/plain": [
              "<Figure size 432x288 with 1 Axes>"
            ]
          },
          "metadata": {
            "tags": []
          }
        },
        {
          "output_type": "display_data",
          "data": {
            "image/png": "[encoded data removed]",
            "text/plain": [
              "<Figure size 432x288 with 1 Axes>"
            ]
          },
          "metadata": {
            "tags": []
          }
        }
      ]
    },
    {
      "cell_type": "markdown",
      "metadata": {
        "id": "04-OVVJ9GAmQ",
        "colab_type": "text"
      },
      "source": [
        "##Overfitting and Underfitting\n",
        "Overfitting occurs when the model also learns from the noise and inaccurate data. Underfitting occurs when the model does not learn anything at all. With overfitting you learn to much from the data and with underfitting you learn not enough from the data. ![Overfitting,underfitting and balanced](https://github.com/Barttje/summercourse-ml/blob/master/Overfitting_underfitting.png?raw=true)\n",
        "### Detecting overfitting/underfitting\n",
        "Underfitting occurs when the loss is very high and the accuray is very low. Overfitting occurs when there is a gap between the accuracy and loss of the training data set and of the test data set. It occurs more often after multiple epochs, when the model is become more and more complex and fitted to the training data instead of a generalized model for the actual problem. \n",
        "![alt text](https://raw.githubusercontent.com/Barttje/summercourse-ml/master/detect_overfitting.png)\n",
        "#### Handling overfitting\n",
        "Early Stopping: Instead of going for more runs, let the training stop at the number of runs when the validation accuracy is starting to decrease and the validation loss is starting to increase. \n",
        "\n",
        "Drop out layers: Instead of using all the output values from the dense layers, the drop out layers remove outputs and only forward a part of the outputs to the next layer. This decreases the chances that the model is going to overfit. \n",
        "#### Handling underfitting\n",
        "Try to get more training data. More and different kind of training data gives the neural network more data to learn from.\n",
        "\n",
        "Try more epochs. If  the accuracy is increasing and loss is decreasing, the neural network might not have enough time to learn from the data yet. \n",
        "\n",
        "Try to increase the complexity of the model by adding more layers and try to play around with increasing amount of neurons in the layers and different activation and loss functions."
      ]
    },
    {
      "cell_type": "code",
      "metadata": {
        "id": "aeKNTNKnS_9m",
        "colab_type": "code",
        "colab": {}
      },
      "source": [
        "neurons_in_hidden_layer=512\n",
        "model = Sequential()\n",
        "model.add(Dense(units=neurons_in_hidden_layer, activation='relu', input_shape=(image_size,))) # Input layer - > Hidden Layer\n",
        "model.add(Dropout(0.5)) # Add dropout layer to reduce overfitting\n",
        "model.add(Dense(units=num_classes, activation='softmax')) # Hidden Layer -> Output layer\n",
        "model.compile(optimizer=\"adam\", loss='categorical_crossentropy', metrics=[\"accuracy\"])"
      ],
      "execution_count": 0,
      "outputs": []
    },
    {
      "cell_type": "markdown",
      "metadata": {
        "id": "NpwdTz_mSXQN",
        "colab_type": "text"
      },
      "source": [
        "# Convolutional Neural Network"
      ]
    },
    {
      "cell_type": "code",
      "metadata": {
        "id": "7YO2WymPSltQ",
        "colab_type": "code",
        "colab": {}
      },
      "source": [
        "from keras.layers import Conv2D, Flatten\n",
        "\n",
        "def reshape_cnn(input):\n",
        "  output = input.reshape(input.shape[0],input.shape[1],input.shape[2],1)\n",
        "  output = output.astype('float32')\n",
        "  output /= 255\n",
        "  return output\n",
        "\n",
        "x_train_cnn = reshape_cnn(x_train_input)\n",
        "x_test_cnn = reshape_cnn(x_test_input)"
      ],
      "execution_count": 0,
      "outputs": []
    },
    {
      "cell_type": "markdown",
      "metadata": {
        "id": "gyRN9DnQ8aLG",
        "colab_type": "text"
      },
      "source": [
        ""
      ]
    },
    {
      "cell_type": "code",
      "metadata": {
        "id": "AvJd3S2_Se-2",
        "colab_type": "code",
        "outputId": "3c3eba87-0073-46df-e840-e82e439a8b7c",
        "colab": {
          "base_uri": "https://localhost:8080/",
          "height": 272
        }
      },
      "source": [
        "cnn_model= Sequential()\n",
        "cnn_model.add(Conv2D(64, kernel_size=3, activation=\"relu\", input_shape=(28,28,1)))\n",
        "cnn_model.add(Flatten())\n",
        "cnn_model.add(Dense(units=num_classes, activation='softmax')) # Hidden Layer -> Output layer\n",
        "cnn_model.compile(optimizer=\"adam\", loss='categorical_crossentropy', metrics=[\"accuracy\"])\n",
        "\n",
        "print(cnn_model.input)\n",
        "print(cnn_model.output)\n",
        "cnn_model.summary()"
      ],
      "execution_count": 15,
      "outputs": [
        {
          "output_type": "stream",
          "text": [
            "Tensor(\"conv2d_1_input:0\", shape=(?, 28, 28, 1), dtype=float32)\n",
            "Tensor(\"dense_5/Softmax:0\", shape=(?, 10), dtype=float32)\n",
            "_________________________________________________________________\n",
            "Layer (type)                 Output Shape              Param #   \n",
            "=================================================================\n",
            "conv2d_1 (Conv2D)            (None, 26, 26, 64)        640       \n",
            "_________________________________________________________________\n",
            "flatten_1 (Flatten)          (None, 43264)             0         \n",
            "_________________________________________________________________\n",
            "dense_5 (Dense)              (None, 10)                432650    \n",
            "=================================================================\n",
            "Total params: 433,290\n",
            "Trainable params: 433,290\n",
            "Non-trainable params: 0\n",
            "_________________________________________________________________\n"
          ],
          "name": "stdout"
        }
      ]
    },
    {
      "cell_type": "code",
      "metadata": {
        "id": "mYXVVXteUfyD",
        "colab_type": "code",
        "outputId": "1d043027-278a-4b36-997e-2f0edddccaa3",
        "colab": {
          "base_uri": "https://localhost:8080/",
          "height": 102
        }
      },
      "source": [
        "cnn_model.fit(x_train_cnn, y_train, epochs=2)"
      ],
      "execution_count": 16,
      "outputs": [
        {
          "output_type": "stream",
          "text": [
            "Epoch 1/2\n",
            "60000/60000 [==============================] - 44s 741us/step - loss: 0.3899 - acc: 0.8637\n",
            "Epoch 2/2\n",
            "60000/60000 [==============================] - 44s 736us/step - loss: 0.2748 - acc: 0.9019\n"
          ],
          "name": "stdout"
        },
        {
          "output_type": "execute_result",
          "data": {
            "text/plain": [
              "<keras.callbacks.History at 0x7f970f03d0f0>"
            ]
          },
          "metadata": {
            "tags": []
          },
          "execution_count": 16
        }
      ]
    },
    {
      "cell_type": "markdown",
      "metadata": {
        "id": "HA5vQhhbtI68",
        "colab_type": "text"
      },
      "source": [
        "## Kaggle\n",
        "\n",
        "[Kaggle](https://www.kaggle.com) is an online community of data scientists and machine learners where you can find datasets and with challenges, solutions and discussions. It's a great resource to improve your skills and share knowledge.\n",
        "\n",
        "We've prepared a dataset already for you to make it easier to download into this Notebook. The dataset we'll be using is called [Dogs vs. Cats](https://www.kaggle.com/c/dogs-vs-cats)."
      ]
    },
    {
      "cell_type": "code",
      "metadata": {
        "id": "ljBkpLLytDi3",
        "colab_type": "code",
        "colab": {}
      },
      "source": [
        "import sys\n",
        "import os\n",
        "import random\n",
        "import logging\n",
        "import pandas as pd\n",
        "import tensorflow as tf\n",
        "from sklearn.model_selection import train_test_split\n",
        "\n",
        "from keras.preprocessing import image\n",
        "from keras.applications.imagenet_utils import preprocess_input\n",
        "from keras.layers import Dense, Dropout, Activation, Flatten, Conv2D, MaxPooling2D\n",
        "from keras import Model, applications\n",
        "from keras.models import Sequential"
      ],
      "execution_count": 0,
      "outputs": []
    },
    {
      "cell_type": "code",
      "metadata": {
        "id": "TyQoEm3htUSd",
        "colab_type": "code",
        "colab": {
          "base_uri": "https://localhost:8080/",
          "height": 51
        },
        "outputId": "0b5ee457-c252-4cf8-df7e-522ced2acdc5"
      },
      "source": [
        "zipFile = './cats-vs-dogs.zip'\n",
        "\n",
        "if 'pydrive' not in sys.modules:\n",
        "  # Install the PyDrive wrapper & import libraries.\n",
        "  # This only needs to be done once per notebook.\n",
        "  !pip install -U -q PyDrive\n",
        "  from pydrive.auth import GoogleAuth\n",
        "  from pydrive.drive import GoogleDrive\n",
        "\n",
        "if not os.path.isfile(zipFile):\n",
        "  from google.colab import auth\n",
        "  from oauth2client.client import GoogleCredentials\n",
        "  logging.getLogger('googleapiclient.discovery_cache').setLevel(logging.ERROR)\n",
        "  auth.authenticate_user()\n",
        "  gauth = GoogleAuth()\n",
        "  gauth.credentials = GoogleCredentials.get_application_default()\n",
        "  drive = GoogleDrive(gauth)\n",
        "  driveFile = drive.CreateFile({'id': '1NUgVlKA1Qie2ZjNJO51sh488uemX6EOO'})\n",
        "  print(\"downloading file\")\n",
        "  driveFile.GetContentFile(zipFile)\n",
        "  \n",
        "print(\"unzipping\")\n",
        "!unzip -qu {zipFile}\n",
        "print(\"files are ready\")"
      ],
      "execution_count": 18,
      "outputs": [
        {
          "output_type": "stream",
          "text": [
            "unzipping\n",
            "files are ready\n"
          ],
          "name": "stdout"
        }
      ]
    },
    {
      "cell_type": "markdown",
      "metadata": {
        "id": "y6_enradtZNU",
        "colab_type": "text"
      },
      "source": [
        "We have to split the dataset into training and test sets. While doding this it's very importend to have balanced sets, this means that for every outcome there are the same amount of datapoints in your set. For example if we have 100 dogs in our set then we would also want to have 100 cats in our set."
      ]
    },
    {
      "cell_type": "code",
      "metadata": {
        "id": "QNiCh7LQtZkT",
        "colab_type": "code",
        "colab": {
          "base_uri": "https://localhost:8080/",
          "height": 68
        },
        "outputId": "c441366d-4173-4c20-fa9b-8d4bcf674b04"
      },
      "source": [
        "all_images = os.listdir(\"./train/\")\n",
        "cats = [f for f in all_images if f.startswith(\"cat\")];\n",
        "dogs = [f for f in all_images if f.startswith(\"dog\")];\n",
        "\n",
        "\n",
        "# If there is an inbalance in the dataset we want to use the smallest set size to balance out the dataset\n",
        "smallest_set_size = min(len(cats),len(dogs))\n",
        "\n",
        "# Split the dataset into 80% training and 20% test data. Using train_test_split from sklearn it will choose those sets randomly\n",
        "cat_train, cat_test, dog_train, dog_test = train_test_split(cats[:smallest_set_size], dogs[:smallest_set_size], test_size=0.20);\n",
        "\n",
        "print(\"There are {} cats and {} dogs in our dataset\".format(len(cats), len(dogs)))\n",
        "print(\"There are {} cats and {} dogs in our trainigset\".format(len(cat_train), len(dog_train)))\n",
        "print(\"There are {} cats and {} dogs in our testset\".format(len(cat_test), len(dog_test)))\n",
        "\n",
        "\n",
        "# Combine the train and test sets\n",
        "train = pd.DataFrame(cat_train + dog_train, columns=[\"filename\"])\n",
        "test = pd.DataFrame(cat_test + dog_test, columns=[\"filename\"])\n",
        "\n",
        "# Add labels to train on to the dataframe\n",
        "train.loc[(train[\"filename\"].str.startswith(\"cat\")), \"class\"] = \"cat\"\n",
        "train.loc[(train[\"filename\"].str.startswith(\"dog\")), \"class\"] = \"dog\"\n",
        "test.loc[(test[\"filename\"].str.startswith(\"cat\")), \"class\"] = \"cat\"\n",
        "test.loc[(test[\"filename\"].str.startswith(\"dog\")), \"class\"] = \"dog\"\n",
        "\n",
        "# Using sample(frax=1) we will shuffle the set\n",
        "train = train.sample(frac=1).reset_index(drop=True)\n",
        "test = test.sample(frac=1).reset_index(drop=True)"
      ],
      "execution_count": 36,
      "outputs": [
        {
          "output_type": "stream",
          "text": [
            "There are 12500 cats and 12500 dogs in our dataset\n",
            "There are 10000 cats and 10000 dogs in our trainigset\n",
            "There are 2500 cats and 2500 dogs in our testset\n"
          ],
          "name": "stdout"
        }
      ]
    },
    {
      "cell_type": "markdown",
      "metadata": {
        "id": "QN8mhyuGtgDb",
        "colab_type": "text"
      },
      "source": [
        "We can increase the size of our dataset by generating slightly different variations of the same images. We can use the ImageDataGenerator to automatically create those images. We will zoom and shear and flip the image randomly."
      ]
    },
    {
      "cell_type": "code",
      "metadata": {
        "id": "oaHuyzfOtj2V",
        "colab_type": "code",
        "colab": {
          "base_uri": "https://localhost:8080/",
          "height": 51
        },
        "outputId": "a25fbf7d-5a3e-41b5-da23-aedc850cf478"
      },
      "source": [
        "target_width = 200\n",
        "target_height = 200\n",
        "\n",
        "# The augmentation configuration we will use for training\n",
        "train_datagen = image.ImageDataGenerator(\n",
        "    width_shift_range=0,\n",
        "    height_shift_range=0,\n",
        "        rescale=1./255,      # Normalize the pixel value to be between 0 and 1\n",
        "        shear_range=0.4,\n",
        "        zoom_range=0.2,\n",
        "        horizontal_flip=True)\n",
        "\n",
        "# The test data should only be normalized but not transformed\n",
        "test_datagen = image.ImageDataGenerator(rescale=1./255)\n",
        "\n",
        "\n",
        "train_generator = train_datagen.flow_from_dataframe(\n",
        "    train, \n",
        "    directory=\"./train/\",\n",
        "    target_size=(target_width, target_height),  # All images will be resized to 200x200\n",
        "    batch_size=16,\n",
        "    class_mode=\"binary\",\n",
        "    interpolation=\"box\"\n",
        "      )\n",
        "test_generator = test_datagen.flow_from_dataframe(\n",
        "    test, \n",
        "    directory=\"./train/\",\n",
        "    target_size=(target_width, target_height),  # All images will be resized to 200x200\n",
        "    batch_size=16,\n",
        "    class_mode=\"binary\")"
      ],
      "execution_count": 26,
      "outputs": [
        {
          "output_type": "stream",
          "text": [
            "Found 20000 validated image filenames belonging to 2 classes.\n",
            "Found 5000 validated image filenames belonging to 2 classes.\n"
          ],
          "name": "stdout"
        }
      ]
    },
    {
      "cell_type": "code",
      "metadata": {
        "id": "D4jstNzztn4f",
        "colab_type": "code",
        "colab": {
          "base_uri": "https://localhost:8080/",
          "height": 286
        },
        "outputId": "ad3afd71-757d-4335-9b1d-9dd80c78d623"
      },
      "source": [
        "plt.imshow(train_generator[random.randint(0,1250)][0][0])"
      ],
      "execution_count": 28,
      "outputs": [
        {
          "output_type": "execute_result",
          "data": {
            "text/plain": [
              "<matplotlib.image.AxesImage at 0x7f9705fda240>"
            ]
          },
          "metadata": {
            "tags": []
          },
          "execution_count": 28
        },
        {
          "output_type": "display_data",
          "data": {
            "image/png": "[encoded data removed]",
            "text/plain": [
              "<Figure size 432x288 with 1 Axes>"
            ]
          },
          "metadata": {
            "tags": []
          }
        }
      ]
    },
    {
      "cell_type": "markdown",
      "metadata": {
        "id": "S47R2wnUuSpO",
        "colab_type": "text"
      },
      "source": [
        "Lets try to apply the model we've used on the Zalando dataset"
      ]
    },
    {
      "cell_type": "code",
      "metadata": {
        "id": "7FITp5oduR-O",
        "colab_type": "code",
        "colab": {
          "base_uri": "https://localhost:8080/",
          "height": 272
        },
        "outputId": "81d71cc5-cf09-412d-ad10-a076efbd3274"
      },
      "source": [
        "cnn_model= Sequential()\n",
        "cnn_model.add(Conv2D(64, kernel_size=3, activation=\"relu\", input_shape=(target_width,target_height,3)))\n",
        "cnn_model.add(Flatten())\n",
        "cnn_model.add(Dense(units=1, activation='sigmoid')) # Hidden Layer -> Output layer\n",
        "cnn_model.compile(optimizer=\"adam\", loss='binary_crossentropy', metrics=[\"accuracy\"])\n",
        "\n",
        "print(cnn_model.input)\n",
        "print(cnn_model.output)\n",
        "cnn_model.summary()"
      ],
      "execution_count": 29,
      "outputs": [
        {
          "output_type": "stream",
          "text": [
            "Tensor(\"conv2d_2_input:0\", shape=(?, 200, 200, 3), dtype=float32)\n",
            "Tensor(\"dense_6/Sigmoid:0\", shape=(?, 1), dtype=float32)\n",
            "_________________________________________________________________\n",
            "Layer (type)                 Output Shape              Param #   \n",
            "=================================================================\n",
            "conv2d_2 (Conv2D)            (None, 198, 198, 64)      1792      \n",
            "_________________________________________________________________\n",
            "flatten_2 (Flatten)          (None, 2509056)           0         \n",
            "_________________________________________________________________\n",
            "dense_6 (Dense)              (None, 1)                 2509057   \n",
            "=================================================================\n",
            "Total params: 2,510,849\n",
            "Trainable params: 2,510,849\n",
            "Non-trainable params: 0\n",
            "_________________________________________________________________\n"
          ],
          "name": "stdout"
        }
      ]
    },
    {
      "cell_type": "code",
      "metadata": {
        "id": "LztXVl0kuXqE",
        "colab_type": "code",
        "colab": {
          "base_uri": "https://localhost:8080/",
          "height": 409
        },
        "outputId": "d969af7f-13f4-4135-8780-dc3fc4b8d0d9"
      },
      "source": [
        "cnn_model.fit_generator(\n",
        "        train_generator,\n",
        "        steps_per_epoch=40,\n",
        "        epochs=8,\n",
        "        validation_data=test_generator,\n",
        "        validation_steps=20)"
      ],
      "execution_count": 30,
      "outputs": [
        {
          "output_type": "stream",
          "text": [
            "Epoch 1/8\n",
            "40/40 [==============================] - 29s 737ms/step - loss: 8.1636 - acc: 0.4703 - val_loss: 8.1705 - val_acc: 0.4875\n",
            "Epoch 2/8\n",
            "17/40 [===========>..................] - ETA: 13s - loss: 7.6195 - acc: 0.5221"
          ],
          "name": "stdout"
        },
        {
          "output_type": "error",
          "ename": "KeyboardInterrupt",
          "evalue": "ignored",
          "traceback": [
            "\u001b[0;31m---------------------------------------------------------------------------\u001b[0m",
            "\u001b[0;31mKeyboardInterrupt\u001b[0m                         Traceback (most recent call last)",
            "\u001b[0;32m<ipython-input-30-8c6e2686c223>\u001b[0m in \u001b[0;36m<module>\u001b[0;34m()\u001b[0m\n\u001b[1;32m      4\u001b[0m         \u001b[0mepochs\u001b[0m\u001b[0;34m=\u001b[0m\u001b[0;36m8\u001b[0m\u001b[0;34m,\u001b[0m\u001b[0;34m\u001b[0m\u001b[0;34m\u001b[0m\u001b[0m\n\u001b[1;32m      5\u001b[0m         \u001b[0mvalidation_data\u001b[0m\u001b[0;34m=\u001b[0m\u001b[0mtest_generator\u001b[0m\u001b[0;34m,\u001b[0m\u001b[0;34m\u001b[0m\u001b[0;34m\u001b[0m\u001b[0m\n\u001b[0;32m----> 6\u001b[0;31m         validation_steps=20)\n\u001b[0m",
            "\u001b[0;32m/usr/local/lib/python3.6/dist-packages/keras/legacy/interfaces.py\u001b[0m in \u001b[0;36mwrapper\u001b[0;34m(*args, **kwargs)\u001b[0m\n\u001b[1;32m     89\u001b[0m                 warnings.warn('Update your `' + object_name + '` call to the ' +\n\u001b[1;32m     90\u001b[0m                               'Keras 2 API: ' + signature, stacklevel=2)\n\u001b[0;32m---> 91\u001b[0;31m             \u001b[0;32mreturn\u001b[0m \u001b[0mfunc\u001b[0m\u001b[0;34m(\u001b[0m\u001b[0;34m*\u001b[0m\u001b[0margs\u001b[0m\u001b[0;34m,\u001b[0m \u001b[0;34m**\u001b[0m\u001b[0mkwargs\u001b[0m\u001b[0;34m)\u001b[0m\u001b[0;34m\u001b[0m\u001b[0;34m\u001b[0m\u001b[0m\n\u001b[0m\u001b[1;32m     92\u001b[0m         \u001b[0mwrapper\u001b[0m\u001b[0;34m.\u001b[0m\u001b[0m_original_function\u001b[0m \u001b[0;34m=\u001b[0m \u001b[0mfunc\u001b[0m\u001b[0;34m\u001b[0m\u001b[0;34m\u001b[0m\u001b[0m\n\u001b[1;32m     93\u001b[0m         \u001b[0;32mreturn\u001b[0m \u001b[0mwrapper\u001b[0m\u001b[0;34m\u001b[0m\u001b[0;34m\u001b[0m\u001b[0m\n",
            "\u001b[0;32m/usr/local/lib/python3.6/dist-packages/keras/engine/training.py\u001b[0m in \u001b[0;36mfit_generator\u001b[0;34m(self, generator, steps_per_epoch, epochs, verbose, callbacks, validation_data, validation_steps, class_weight, max_queue_size, workers, use_multiprocessing, shuffle, initial_epoch)\u001b[0m\n\u001b[1;32m   1416\u001b[0m             \u001b[0muse_multiprocessing\u001b[0m\u001b[0;34m=\u001b[0m\u001b[0muse_multiprocessing\u001b[0m\u001b[0;34m,\u001b[0m\u001b[0;34m\u001b[0m\u001b[0;34m\u001b[0m\u001b[0m\n\u001b[1;32m   1417\u001b[0m             \u001b[0mshuffle\u001b[0m\u001b[0;34m=\u001b[0m\u001b[0mshuffle\u001b[0m\u001b[0;34m,\u001b[0m\u001b[0;34m\u001b[0m\u001b[0;34m\u001b[0m\u001b[0m\n\u001b[0;32m-> 1418\u001b[0;31m             initial_epoch=initial_epoch)\n\u001b[0m\u001b[1;32m   1419\u001b[0m \u001b[0;34m\u001b[0m\u001b[0m\n\u001b[1;32m   1420\u001b[0m     \u001b[0;34m@\u001b[0m\u001b[0minterfaces\u001b[0m\u001b[0;34m.\u001b[0m\u001b[0mlegacy_generator_methods_support\u001b[0m\u001b[0;34m\u001b[0m\u001b[0;34m\u001b[0m\u001b[0m\n",
            "\u001b[0;32m/usr/local/lib/python3.6/dist-packages/keras/engine/training_generator.py\u001b[0m in \u001b[0;36mfit_generator\u001b[0;34m(model, generator, steps_per_epoch, epochs, verbose, callbacks, validation_data, validation_steps, class_weight, max_queue_size, workers, use_multiprocessing, shuffle, initial_epoch)\u001b[0m\n\u001b[1;32m    215\u001b[0m                 outs = model.train_on_batch(x, y,\n\u001b[1;32m    216\u001b[0m                                             \u001b[0msample_weight\u001b[0m\u001b[0;34m=\u001b[0m\u001b[0msample_weight\u001b[0m\u001b[0;34m,\u001b[0m\u001b[0;34m\u001b[0m\u001b[0;34m\u001b[0m\u001b[0m\n\u001b[0;32m--> 217\u001b[0;31m                                             class_weight=class_weight)\n\u001b[0m\u001b[1;32m    218\u001b[0m \u001b[0;34m\u001b[0m\u001b[0m\n\u001b[1;32m    219\u001b[0m                 \u001b[0mouts\u001b[0m \u001b[0;34m=\u001b[0m \u001b[0mto_list\u001b[0m\u001b[0;34m(\u001b[0m\u001b[0mouts\u001b[0m\u001b[0;34m)\u001b[0m\u001b[0;34m\u001b[0m\u001b[0;34m\u001b[0m\u001b[0m\n",
            "\u001b[0;32m/usr/local/lib/python3.6/dist-packages/keras/engine/training.py\u001b[0m in \u001b[0;36mtrain_on_batch\u001b[0;34m(self, x, y, sample_weight, class_weight)\u001b[0m\n\u001b[1;32m   1215\u001b[0m             \u001b[0mins\u001b[0m \u001b[0;34m=\u001b[0m \u001b[0mx\u001b[0m \u001b[0;34m+\u001b[0m \u001b[0my\u001b[0m \u001b[0;34m+\u001b[0m \u001b[0msample_weights\u001b[0m\u001b[0;34m\u001b[0m\u001b[0;34m\u001b[0m\u001b[0m\n\u001b[1;32m   1216\u001b[0m         \u001b[0mself\u001b[0m\u001b[0;34m.\u001b[0m\u001b[0m_make_train_function\u001b[0m\u001b[0;34m(\u001b[0m\u001b[0;34m)\u001b[0m\u001b[0;34m\u001b[0m\u001b[0;34m\u001b[0m\u001b[0m\n\u001b[0;32m-> 1217\u001b[0;31m         \u001b[0moutputs\u001b[0m \u001b[0;34m=\u001b[0m \u001b[0mself\u001b[0m\u001b[0;34m.\u001b[0m\u001b[0mtrain_function\u001b[0m\u001b[0;34m(\u001b[0m\u001b[0mins\u001b[0m\u001b[0;34m)\u001b[0m\u001b[0;34m\u001b[0m\u001b[0;34m\u001b[0m\u001b[0m\n\u001b[0m\u001b[1;32m   1218\u001b[0m         \u001b[0;32mreturn\u001b[0m \u001b[0munpack_singleton\u001b[0m\u001b[0;34m(\u001b[0m\u001b[0moutputs\u001b[0m\u001b[0;34m)\u001b[0m\u001b[0;34m\u001b[0m\u001b[0;34m\u001b[0m\u001b[0m\n\u001b[1;32m   1219\u001b[0m \u001b[0;34m\u001b[0m\u001b[0m\n",
            "\u001b[0;32m/usr/local/lib/python3.6/dist-packages/keras/backend/tensorflow_backend.py\u001b[0m in \u001b[0;36m__call__\u001b[0;34m(self, inputs)\u001b[0m\n\u001b[1;32m   2713\u001b[0m                 \u001b[0;32mreturn\u001b[0m \u001b[0mself\u001b[0m\u001b[0;34m.\u001b[0m\u001b[0m_legacy_call\u001b[0m\u001b[0;34m(\u001b[0m\u001b[0minputs\u001b[0m\u001b[0;34m)\u001b[0m\u001b[0;34m\u001b[0m\u001b[0;34m\u001b[0m\u001b[0m\n\u001b[1;32m   2714\u001b[0m \u001b[0;34m\u001b[0m\u001b[0m\n\u001b[0;32m-> 2715\u001b[0;31m             \u001b[0;32mreturn\u001b[0m \u001b[0mself\u001b[0m\u001b[0;34m.\u001b[0m\u001b[0m_call\u001b[0m\u001b[0;34m(\u001b[0m\u001b[0minputs\u001b[0m\u001b[0;34m)\u001b[0m\u001b[0;34m\u001b[0m\u001b[0;34m\u001b[0m\u001b[0m\n\u001b[0m\u001b[1;32m   2716\u001b[0m         \u001b[0;32melse\u001b[0m\u001b[0;34m:\u001b[0m\u001b[0;34m\u001b[0m\u001b[0;34m\u001b[0m\u001b[0m\n\u001b[1;32m   2717\u001b[0m             \u001b[0;32mif\u001b[0m \u001b[0mpy_any\u001b[0m\u001b[0;34m(\u001b[0m\u001b[0mis_tensor\u001b[0m\u001b[0;34m(\u001b[0m\u001b[0mx\u001b[0m\u001b[0;34m)\u001b[0m \u001b[0;32mfor\u001b[0m \u001b[0mx\u001b[0m \u001b[0;32min\u001b[0m \u001b[0minputs\u001b[0m\u001b[0;34m)\u001b[0m\u001b[0;34m:\u001b[0m\u001b[0;34m\u001b[0m\u001b[0;34m\u001b[0m\u001b[0m\n",
            "\u001b[0;32m/usr/local/lib/python3.6/dist-packages/keras/backend/tensorflow_backend.py\u001b[0m in \u001b[0;36m_call\u001b[0;34m(self, inputs)\u001b[0m\n\u001b[1;32m   2673\u001b[0m             \u001b[0mfetched\u001b[0m \u001b[0;34m=\u001b[0m \u001b[0mself\u001b[0m\u001b[0;34m.\u001b[0m\u001b[0m_callable_fn\u001b[0m\u001b[0;34m(\u001b[0m\u001b[0;34m*\u001b[0m\u001b[0marray_vals\u001b[0m\u001b[0;34m,\u001b[0m \u001b[0mrun_metadata\u001b[0m\u001b[0;34m=\u001b[0m\u001b[0mself\u001b[0m\u001b[0;34m.\u001b[0m\u001b[0mrun_metadata\u001b[0m\u001b[0;34m)\u001b[0m\u001b[0;34m\u001b[0m\u001b[0;34m\u001b[0m\u001b[0m\n\u001b[1;32m   2674\u001b[0m         \u001b[0;32melse\u001b[0m\u001b[0;34m:\u001b[0m\u001b[0;34m\u001b[0m\u001b[0;34m\u001b[0m\u001b[0m\n\u001b[0;32m-> 2675\u001b[0;31m             \u001b[0mfetched\u001b[0m \u001b[0;34m=\u001b[0m \u001b[0mself\u001b[0m\u001b[0;34m.\u001b[0m\u001b[0m_callable_fn\u001b[0m\u001b[0;34m(\u001b[0m\u001b[0;34m*\u001b[0m\u001b[0marray_vals\u001b[0m\u001b[0;34m)\u001b[0m\u001b[0;34m\u001b[0m\u001b[0;34m\u001b[0m\u001b[0m\n\u001b[0m\u001b[1;32m   2676\u001b[0m         \u001b[0;32mreturn\u001b[0m \u001b[0mfetched\u001b[0m\u001b[0;34m[\u001b[0m\u001b[0;34m:\u001b[0m\u001b[0mlen\u001b[0m\u001b[0;34m(\u001b[0m\u001b[0mself\u001b[0m\u001b[0;34m.\u001b[0m\u001b[0moutputs\u001b[0m\u001b[0;34m)\u001b[0m\u001b[0;34m]\u001b[0m\u001b[0;34m\u001b[0m\u001b[0;34m\u001b[0m\u001b[0m\n\u001b[1;32m   2677\u001b[0m \u001b[0;34m\u001b[0m\u001b[0m\n",
            "\u001b[0;32m/usr/local/lib/python3.6/dist-packages/tensorflow/python/client/session.py\u001b[0m in \u001b[0;36m__call__\u001b[0;34m(self, *args, **kwargs)\u001b[0m\n\u001b[1;32m   1456\u001b[0m         ret = tf_session.TF_SessionRunCallable(self._session._session,\n\u001b[1;32m   1457\u001b[0m                                                \u001b[0mself\u001b[0m\u001b[0;34m.\u001b[0m\u001b[0m_handle\u001b[0m\u001b[0;34m,\u001b[0m \u001b[0margs\u001b[0m\u001b[0;34m,\u001b[0m\u001b[0;34m\u001b[0m\u001b[0;34m\u001b[0m\u001b[0m\n\u001b[0;32m-> 1458\u001b[0;31m                                                run_metadata_ptr)\n\u001b[0m\u001b[1;32m   1459\u001b[0m         \u001b[0;32mif\u001b[0m \u001b[0mrun_metadata\u001b[0m\u001b[0;34m:\u001b[0m\u001b[0;34m\u001b[0m\u001b[0;34m\u001b[0m\u001b[0m\n\u001b[1;32m   1460\u001b[0m           \u001b[0mproto_data\u001b[0m \u001b[0;34m=\u001b[0m \u001b[0mtf_session\u001b[0m\u001b[0;34m.\u001b[0m\u001b[0mTF_GetBuffer\u001b[0m\u001b[0;34m(\u001b[0m\u001b[0mrun_metadata_ptr\u001b[0m\u001b[0;34m)\u001b[0m\u001b[0;34m\u001b[0m\u001b[0;34m\u001b[0m\u001b[0m\n",
            "\u001b[0;31mKeyboardInterrupt\u001b[0m: "
          ]
        }
      ]
    },
    {
      "cell_type": "markdown",
      "metadata": {
        "id": "JcTa5yHouajQ",
        "colab_type": "text"
      },
      "source": [
        "We see that the accouray will start around 0.5 and will not move far away from this. This is because we would need a lot a learning before the convolutional layer is trained.\n",
        "\n",
        "Another issue is that we have larger images. A single convolutional layer will just not do the job for this problem. To speed up te process of training the convolutional layer we can use a technique called transfer learning. This is a pre trained model where we will split the convolutional part and reuse it for our problem."
      ]
    },
    {
      "cell_type": "markdown",
      "metadata": {
        "id": "DH1qCunJuflp",
        "colab_type": "text"
      },
      "source": [
        "###VGG16\n",
        "\n",
        "VGG16 is a pretrained model. We can leverage all the work and training time put into this model. We do this by downloading VGG16 without the \"top\" and write out own. By doing this we can quickly create a network for own own data."
      ]
    },
    {
      "cell_type": "code",
      "metadata": {
        "id": "syv1rwq5ukgo",
        "colab_type": "code",
        "colab": {
          "base_uri": "https://localhost:8080/",
          "height": 816
        },
        "outputId": "129a2a03-6030-405d-8326-acec4f969717"
      },
      "source": [
        "VGGmodel = applications.VGG16(weights='imagenet', include_top=False, input_shape =(target_width, target_height, 3))\n",
        "\n",
        "VGGmodel.summary()"
      ],
      "execution_count": 31,
      "outputs": [
        {
          "output_type": "stream",
          "text": [
            "Downloading data from https://github.com/fchollet/deep-learning-models/releases/download/v0.1/vgg16_weights_tf_dim_ordering_tf_kernels_notop.h5\n",
            "58892288/58889256 [==============================] - 1s 0us/step\n",
            "_________________________________________________________________\n",
            "Layer (type)                 Output Shape              Param #   \n",
            "=================================================================\n",
            "input_1 (InputLayer)         (None, 200, 200, 3)       0         \n",
            "_________________________________________________________________\n",
            "block1_conv1 (Conv2D)        (None, 200, 200, 64)      1792      \n",
            "_________________________________________________________________\n",
            "block1_conv2 (Conv2D)        (None, 200, 200, 64)      36928     \n",
            "_________________________________________________________________\n",
            "block1_pool (MaxPooling2D)   (None, 100, 100, 64)      0         \n",
            "_________________________________________________________________\n",
            "block2_conv1 (Conv2D)        (None, 100, 100, 128)     73856     \n",
            "_________________________________________________________________\n",
            "block2_conv2 (Conv2D)        (None, 100, 100, 128)     147584    \n",
            "_________________________________________________________________\n",
            "block2_pool (MaxPooling2D)   (None, 50, 50, 128)       0         \n",
            "_________________________________________________________________\n",
            "block3_conv1 (Conv2D)        (None, 50, 50, 256)       295168    \n",
            "_________________________________________________________________\n",
            "block3_conv2 (Conv2D)        (None, 50, 50, 256)       590080    \n",
            "_________________________________________________________________\n",
            "block3_conv3 (Conv2D)        (None, 50, 50, 256)       590080    \n",
            "_________________________________________________________________\n",
            "block3_pool (MaxPooling2D)   (None, 25, 25, 256)       0         \n",
            "_________________________________________________________________\n",
            "block4_conv1 (Conv2D)        (None, 25, 25, 512)       1180160   \n",
            "_________________________________________________________________\n",
            "block4_conv2 (Conv2D)        (None, 25, 25, 512)       2359808   \n",
            "_________________________________________________________________\n",
            "block4_conv3 (Conv2D)        (None, 25, 25, 512)       2359808   \n",
            "_________________________________________________________________\n",
            "block4_pool (MaxPooling2D)   (None, 12, 12, 512)       0         \n",
            "_________________________________________________________________\n",
            "block5_conv1 (Conv2D)        (None, 12, 12, 512)       2359808   \n",
            "_________________________________________________________________\n",
            "block5_conv2 (Conv2D)        (None, 12, 12, 512)       2359808   \n",
            "_________________________________________________________________\n",
            "block5_conv3 (Conv2D)        (None, 12, 12, 512)       2359808   \n",
            "_________________________________________________________________\n",
            "block5_pool (MaxPooling2D)   (None, 6, 6, 512)         0         \n",
            "=================================================================\n",
            "Total params: 14,714,688\n",
            "Trainable params: 14,714,688\n",
            "Non-trainable params: 0\n",
            "_________________________________________________________________\n"
          ],
          "name": "stdout"
        }
      ]
    },
    {
      "cell_type": "code",
      "metadata": {
        "id": "Ca55-SL1uoNk",
        "colab_type": "code",
        "colab": {}
      },
      "source": [
        "#Flattering the output from VGG16 convolutional layers\n",
        "top_model = Flatten()(VGGmodel.output)\n",
        "\n",
        "#Adding our own top layers\n",
        "top_model = Dense(256, activation='relu')(top_model)\n",
        "top_model = Dropout(0.2)(top_model)\n",
        "top_model = Dense(256, activation='relu')(top_model)\n",
        "top_model = Dropout(0.2)(top_model)\n",
        "\n",
        "#Adding the output layer\n",
        "top_model = Dense(1, activation='sigmoid')(top_model)"
      ],
      "execution_count": 0,
      "outputs": []
    },
    {
      "cell_type": "code",
      "metadata": {
        "id": "hyV_WZEXuqtP",
        "colab_type": "code",
        "colab": {}
      },
      "source": [
        "#Finishing the model\n",
        "full_model = Model([VGGmodel.input], [top_model])\n",
        "\n",
        "# Set the first 16 layers to non-trainable (weights will not be updated)\n",
        "for layer in full_model.layers[:16]:\n",
        "    layer.trainable = False\n",
        "\n",
        "# Compiling the model\n",
        "full_model.compile(loss='binary_crossentropy',\n",
        "              optimizer=\"adam\",\n",
        "              metrics=['accuracy'])"
      ],
      "execution_count": 0,
      "outputs": []
    },
    {
      "cell_type": "markdown",
      "metadata": {
        "id": "ieZtBtBAuvnI",
        "colab_type": "text"
      },
      "source": [
        "Let's train the model!"
      ]
    },
    {
      "cell_type": "code",
      "metadata": {
        "id": "0UEArVZsus-a",
        "colab_type": "code",
        "colab": {
          "base_uri": "https://localhost:8080/",
          "height": 375
        },
        "outputId": "876bf2e6-ea2e-478c-8d4d-9726f440cc55"
      },
      "source": [
        "full_model.fit_generator(\n",
        "        train_generator,\n",
        "        steps_per_epoch=40,\n",
        "        epochs=8,\n",
        "        validation_data=test_generator,\n",
        "        validation_steps=20)"
      ],
      "execution_count": 35,
      "outputs": [
        {
          "output_type": "stream",
          "text": [
            "Epoch 1/8\n",
            " 5/40 [==>...........................] - ETA: 4:42 - loss: 0.9579 - acc: 0.5250"
          ],
          "name": "stdout"
        },
        {
          "output_type": "error",
          "ename": "KeyboardInterrupt",
          "evalue": "ignored",
          "traceback": [
            "\u001b[0;31m---------------------------------------------------------------------------\u001b[0m",
            "\u001b[0;31mKeyboardInterrupt\u001b[0m                         Traceback (most recent call last)",
            "\u001b[0;32m<ipython-input-35-54092e02712a>\u001b[0m in \u001b[0;36m<module>\u001b[0;34m()\u001b[0m\n\u001b[1;32m      4\u001b[0m         \u001b[0mepochs\u001b[0m\u001b[0;34m=\u001b[0m\u001b[0;36m8\u001b[0m\u001b[0;34m,\u001b[0m\u001b[0;34m\u001b[0m\u001b[0;34m\u001b[0m\u001b[0m\n\u001b[1;32m      5\u001b[0m         \u001b[0mvalidation_data\u001b[0m\u001b[0;34m=\u001b[0m\u001b[0mtest_generator\u001b[0m\u001b[0;34m,\u001b[0m\u001b[0;34m\u001b[0m\u001b[0;34m\u001b[0m\u001b[0m\n\u001b[0;32m----> 6\u001b[0;31m         validation_steps=20)\n\u001b[0m",
            "\u001b[0;32m/usr/local/lib/python3.6/dist-packages/keras/legacy/interfaces.py\u001b[0m in \u001b[0;36mwrapper\u001b[0;34m(*args, **kwargs)\u001b[0m\n\u001b[1;32m     89\u001b[0m                 warnings.warn('Update your `' + object_name + '` call to the ' +\n\u001b[1;32m     90\u001b[0m                               'Keras 2 API: ' + signature, stacklevel=2)\n\u001b[0;32m---> 91\u001b[0;31m             \u001b[0;32mreturn\u001b[0m \u001b[0mfunc\u001b[0m\u001b[0;34m(\u001b[0m\u001b[0;34m*\u001b[0m\u001b[0margs\u001b[0m\u001b[0;34m,\u001b[0m \u001b[0;34m**\u001b[0m\u001b[0mkwargs\u001b[0m\u001b[0;34m)\u001b[0m\u001b[0;34m\u001b[0m\u001b[0;34m\u001b[0m\u001b[0m\n\u001b[0m\u001b[1;32m     92\u001b[0m         \u001b[0mwrapper\u001b[0m\u001b[0;34m.\u001b[0m\u001b[0m_original_function\u001b[0m \u001b[0;34m=\u001b[0m \u001b[0mfunc\u001b[0m\u001b[0;34m\u001b[0m\u001b[0;34m\u001b[0m\u001b[0m\n\u001b[1;32m     93\u001b[0m         \u001b[0;32mreturn\u001b[0m \u001b[0mwrapper\u001b[0m\u001b[0;34m\u001b[0m\u001b[0;34m\u001b[0m\u001b[0m\n",
            "\u001b[0;32m/usr/local/lib/python3.6/dist-packages/keras/engine/training.py\u001b[0m in \u001b[0;36mfit_generator\u001b[0;34m(self, generator, steps_per_epoch, epochs, verbose, callbacks, validation_data, validation_steps, class_weight, max_queue_size, workers, use_multiprocessing, shuffle, initial_epoch)\u001b[0m\n\u001b[1;32m   1416\u001b[0m             \u001b[0muse_multiprocessing\u001b[0m\u001b[0;34m=\u001b[0m\u001b[0muse_multiprocessing\u001b[0m\u001b[0;34m,\u001b[0m\u001b[0;34m\u001b[0m\u001b[0;34m\u001b[0m\u001b[0m\n\u001b[1;32m   1417\u001b[0m             \u001b[0mshuffle\u001b[0m\u001b[0;34m=\u001b[0m\u001b[0mshuffle\u001b[0m\u001b[0;34m,\u001b[0m\u001b[0;34m\u001b[0m\u001b[0;34m\u001b[0m\u001b[0m\n\u001b[0;32m-> 1418\u001b[0;31m             initial_epoch=initial_epoch)\n\u001b[0m\u001b[1;32m   1419\u001b[0m \u001b[0;34m\u001b[0m\u001b[0m\n\u001b[1;32m   1420\u001b[0m     \u001b[0;34m@\u001b[0m\u001b[0minterfaces\u001b[0m\u001b[0;34m.\u001b[0m\u001b[0mlegacy_generator_methods_support\u001b[0m\u001b[0;34m\u001b[0m\u001b[0;34m\u001b[0m\u001b[0m\n",
            "\u001b[0;32m/usr/local/lib/python3.6/dist-packages/keras/engine/training_generator.py\u001b[0m in \u001b[0;36mfit_generator\u001b[0;34m(model, generator, steps_per_epoch, epochs, verbose, callbacks, validation_data, validation_steps, class_weight, max_queue_size, workers, use_multiprocessing, shuffle, initial_epoch)\u001b[0m\n\u001b[1;32m    215\u001b[0m                 outs = model.train_on_batch(x, y,\n\u001b[1;32m    216\u001b[0m                                             \u001b[0msample_weight\u001b[0m\u001b[0;34m=\u001b[0m\u001b[0msample_weight\u001b[0m\u001b[0;34m,\u001b[0m\u001b[0;34m\u001b[0m\u001b[0;34m\u001b[0m\u001b[0m\n\u001b[0;32m--> 217\u001b[0;31m                                             class_weight=class_weight)\n\u001b[0m\u001b[1;32m    218\u001b[0m \u001b[0;34m\u001b[0m\u001b[0m\n\u001b[1;32m    219\u001b[0m                 \u001b[0mouts\u001b[0m \u001b[0;34m=\u001b[0m \u001b[0mto_list\u001b[0m\u001b[0;34m(\u001b[0m\u001b[0mouts\u001b[0m\u001b[0;34m)\u001b[0m\u001b[0;34m\u001b[0m\u001b[0;34m\u001b[0m\u001b[0m\n",
            "\u001b[0;32m/usr/local/lib/python3.6/dist-packages/keras/engine/training.py\u001b[0m in \u001b[0;36mtrain_on_batch\u001b[0;34m(self, x, y, sample_weight, class_weight)\u001b[0m\n\u001b[1;32m   1215\u001b[0m             \u001b[0mins\u001b[0m \u001b[0;34m=\u001b[0m \u001b[0mx\u001b[0m \u001b[0;34m+\u001b[0m \u001b[0my\u001b[0m \u001b[0;34m+\u001b[0m \u001b[0msample_weights\u001b[0m\u001b[0;34m\u001b[0m\u001b[0;34m\u001b[0m\u001b[0m\n\u001b[1;32m   1216\u001b[0m         \u001b[0mself\u001b[0m\u001b[0;34m.\u001b[0m\u001b[0m_make_train_function\u001b[0m\u001b[0;34m(\u001b[0m\u001b[0;34m)\u001b[0m\u001b[0;34m\u001b[0m\u001b[0;34m\u001b[0m\u001b[0m\n\u001b[0;32m-> 1217\u001b[0;31m         \u001b[0moutputs\u001b[0m \u001b[0;34m=\u001b[0m \u001b[0mself\u001b[0m\u001b[0;34m.\u001b[0m\u001b[0mtrain_function\u001b[0m\u001b[0;34m(\u001b[0m\u001b[0mins\u001b[0m\u001b[0;34m)\u001b[0m\u001b[0;34m\u001b[0m\u001b[0;34m\u001b[0m\u001b[0m\n\u001b[0m\u001b[1;32m   1218\u001b[0m         \u001b[0;32mreturn\u001b[0m \u001b[0munpack_singleton\u001b[0m\u001b[0;34m(\u001b[0m\u001b[0moutputs\u001b[0m\u001b[0;34m)\u001b[0m\u001b[0;34m\u001b[0m\u001b[0;34m\u001b[0m\u001b[0m\n\u001b[1;32m   1219\u001b[0m \u001b[0;34m\u001b[0m\u001b[0m\n",
            "\u001b[0;32m/usr/local/lib/python3.6/dist-packages/keras/backend/tensorflow_backend.py\u001b[0m in \u001b[0;36m__call__\u001b[0;34m(self, inputs)\u001b[0m\n\u001b[1;32m   2713\u001b[0m                 \u001b[0;32mreturn\u001b[0m \u001b[0mself\u001b[0m\u001b[0;34m.\u001b[0m\u001b[0m_legacy_call\u001b[0m\u001b[0;34m(\u001b[0m\u001b[0minputs\u001b[0m\u001b[0;34m)\u001b[0m\u001b[0;34m\u001b[0m\u001b[0;34m\u001b[0m\u001b[0m\n\u001b[1;32m   2714\u001b[0m \u001b[0;34m\u001b[0m\u001b[0m\n\u001b[0;32m-> 2715\u001b[0;31m             \u001b[0;32mreturn\u001b[0m \u001b[0mself\u001b[0m\u001b[0;34m.\u001b[0m\u001b[0m_call\u001b[0m\u001b[0;34m(\u001b[0m\u001b[0minputs\u001b[0m\u001b[0;34m)\u001b[0m\u001b[0;34m\u001b[0m\u001b[0;34m\u001b[0m\u001b[0m\n\u001b[0m\u001b[1;32m   2716\u001b[0m         \u001b[0;32melse\u001b[0m\u001b[0;34m:\u001b[0m\u001b[0;34m\u001b[0m\u001b[0;34m\u001b[0m\u001b[0m\n\u001b[1;32m   2717\u001b[0m             \u001b[0;32mif\u001b[0m \u001b[0mpy_any\u001b[0m\u001b[0;34m(\u001b[0m\u001b[0mis_tensor\u001b[0m\u001b[0;34m(\u001b[0m\u001b[0mx\u001b[0m\u001b[0;34m)\u001b[0m \u001b[0;32mfor\u001b[0m \u001b[0mx\u001b[0m \u001b[0;32min\u001b[0m \u001b[0minputs\u001b[0m\u001b[0;34m)\u001b[0m\u001b[0;34m:\u001b[0m\u001b[0;34m\u001b[0m\u001b[0;34m\u001b[0m\u001b[0m\n",
            "\u001b[0;32m/usr/local/lib/python3.6/dist-packages/keras/backend/tensorflow_backend.py\u001b[0m in \u001b[0;36m_call\u001b[0;34m(self, inputs)\u001b[0m\n\u001b[1;32m   2673\u001b[0m             \u001b[0mfetched\u001b[0m \u001b[0;34m=\u001b[0m \u001b[0mself\u001b[0m\u001b[0;34m.\u001b[0m\u001b[0m_callable_fn\u001b[0m\u001b[0;34m(\u001b[0m\u001b[0;34m*\u001b[0m\u001b[0marray_vals\u001b[0m\u001b[0;34m,\u001b[0m \u001b[0mrun_metadata\u001b[0m\u001b[0;34m=\u001b[0m\u001b[0mself\u001b[0m\u001b[0;34m.\u001b[0m\u001b[0mrun_metadata\u001b[0m\u001b[0;34m)\u001b[0m\u001b[0;34m\u001b[0m\u001b[0;34m\u001b[0m\u001b[0m\n\u001b[1;32m   2674\u001b[0m         \u001b[0;32melse\u001b[0m\u001b[0;34m:\u001b[0m\u001b[0;34m\u001b[0m\u001b[0;34m\u001b[0m\u001b[0m\n\u001b[0;32m-> 2675\u001b[0;31m             \u001b[0mfetched\u001b[0m \u001b[0;34m=\u001b[0m \u001b[0mself\u001b[0m\u001b[0;34m.\u001b[0m\u001b[0m_callable_fn\u001b[0m\u001b[0;34m(\u001b[0m\u001b[0;34m*\u001b[0m\u001b[0marray_vals\u001b[0m\u001b[0;34m)\u001b[0m\u001b[0;34m\u001b[0m\u001b[0;34m\u001b[0m\u001b[0m\n\u001b[0m\u001b[1;32m   2676\u001b[0m         \u001b[0;32mreturn\u001b[0m \u001b[0mfetched\u001b[0m\u001b[0;34m[\u001b[0m\u001b[0;34m:\u001b[0m\u001b[0mlen\u001b[0m\u001b[0;34m(\u001b[0m\u001b[0mself\u001b[0m\u001b[0;34m.\u001b[0m\u001b[0moutputs\u001b[0m\u001b[0;34m)\u001b[0m\u001b[0;34m]\u001b[0m\u001b[0;34m\u001b[0m\u001b[0;34m\u001b[0m\u001b[0m\n\u001b[1;32m   2677\u001b[0m \u001b[0;34m\u001b[0m\u001b[0m\n",
            "\u001b[0;32m/usr/local/lib/python3.6/dist-packages/tensorflow/python/client/session.py\u001b[0m in \u001b[0;36m__call__\u001b[0;34m(self, *args, **kwargs)\u001b[0m\n\u001b[1;32m   1456\u001b[0m         ret = tf_session.TF_SessionRunCallable(self._session._session,\n\u001b[1;32m   1457\u001b[0m                                                \u001b[0mself\u001b[0m\u001b[0;34m.\u001b[0m\u001b[0m_handle\u001b[0m\u001b[0;34m,\u001b[0m \u001b[0margs\u001b[0m\u001b[0;34m,\u001b[0m\u001b[0;34m\u001b[0m\u001b[0;34m\u001b[0m\u001b[0m\n\u001b[0;32m-> 1458\u001b[0;31m                                                run_metadata_ptr)\n\u001b[0m\u001b[1;32m   1459\u001b[0m         \u001b[0;32mif\u001b[0m \u001b[0mrun_metadata\u001b[0m\u001b[0;34m:\u001b[0m\u001b[0;34m\u001b[0m\u001b[0;34m\u001b[0m\u001b[0m\n\u001b[1;32m   1460\u001b[0m           \u001b[0mproto_data\u001b[0m \u001b[0;34m=\u001b[0m \u001b[0mtf_session\u001b[0m\u001b[0;34m.\u001b[0m\u001b[0mTF_GetBuffer\u001b[0m\u001b[0;34m(\u001b[0m\u001b[0mrun_metadata_ptr\u001b[0m\u001b[0;34m)\u001b[0m\u001b[0;34m\u001b[0m\u001b[0;34m\u001b[0m\u001b[0m\n",
            "\u001b[0;31mKeyboardInterrupt\u001b[0m: "
          ]
        }
      ]
    }
  ]
}