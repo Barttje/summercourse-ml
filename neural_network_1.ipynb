{
  "nbformat": 4,
  "nbformat_minor": 0,
  "metadata": {
    "colab": {
      "name": "neural_network_1.ipynb",
      "version": "0.3.2",
      "provenance": [],
      "include_colab_link": true
    },
    "kernelspec": {
      "name": "python3",
      "display_name": "Python 3"
    }
  },
  "cells": [
    {
      "cell_type": "markdown",
      "metadata": {
        "id": "view-in-github",
        "colab_type": "text"
      },
      "source": [
        "<a href=\"https://colab.research.google.com/github/Barttje/summercourse-ml/blob/master/neural_network_1.ipynb\" target=\"_parent\"><img src=\"https://colab.research.google.com/assets/colab-badge.svg\" alt=\"Open In Colab\"/></a>"
      ]
    },
    {
      "cell_type": "markdown",
      "metadata": {
        "id": "Zt3QsZrmpHsM",
        "colab_type": "text"
      },
      "source": [
        "# Codecentric Summercourse ML \n",
        "This is part one of the summercourse ML organised by Codecentric. \n",
        "## Neural network\n",
        "In this tutorial we are going to explain how to create a neural network in Keras that is used for classifying the MNIST fashion data set. This is a dataset of 60.000 Zalando's article images.\n",
        "Each training and test example is assigned to one of the following labels:\n",
        "0. T-Shirt\n",
        "1. Trouser\n",
        "2. Pullover\n",
        "3. Dress\n",
        "4. Coat\n",
        "5. Sandal\n",
        "6. Shirt\n",
        "7. Sneaker\n",
        "8. Bag\n",
        "9. Ankle boot \n",
        "\n",
        "More information about the data set can be found [here](https://www.kaggle.com/zalando-research/fashionmnist).\n"
      ]
    },
    {
      "cell_type": "markdown",
      "metadata": {
        "id": "feiNW8bqyI1c",
        "colab_type": "text"
      },
      "source": [
        "#Imports"
      ]
    },
    {
      "cell_type": "code",
      "metadata": {
        "id": "TJX7HcvQpFyW",
        "colab_type": "code",
        "outputId": "c08ec6c4-d18c-438b-960e-9112f0e8a740",
        "colab": {
          "base_uri": "https://localhost:8080/",
          "height": 34
        }
      },
      "source": [
        "import keras\n",
        "from keras.datasets import fashion_mnist\n",
        "from keras.layers import Dense, Dropout\n",
        "from keras.models import Sequential\n",
        "import matplotlib.pyplot as plt"
      ],
      "execution_count": 0,
      "outputs": [
        {
          "output_type": "stream",
          "text": [
            "Using TensorFlow backend.\n"
          ],
          "name": "stderr"
        }
      ]
    },
    {
      "cell_type": "markdown",
      "metadata": {
        "id": "hmfihgWCyESp",
        "colab_type": "text"
      },
      "source": [
        "#Data preprocessing"
      ]
    },
    {
      "cell_type": "code",
      "metadata": {
        "id": "voxKUe00uvtq",
        "colab_type": "code",
        "outputId": "b610059e-ef2c-4c1a-b12d-30574444682f",
        "colab": {
          "base_uri": "https://localhost:8080/",
          "height": 34
        }
      },
      "source": [
        "labels = {0:\"T-Shirt\", 1:\"Trouser\", 2:\"Pullover\", 3:\"Dress\", 4:\"Coat\",5:\"Sandal\",6:\"Shirt\",7:\"Sneaker\",8:\"Bag\",9:\"Ankle boot\"}\n",
        "print(labels[2])"
      ],
      "execution_count": 0,
      "outputs": [
        {
          "output_type": "stream",
          "text": [
            "Pullover\n"
          ],
          "name": "stdout"
        }
      ]
    },
    {
      "cell_type": "markdown",
      "metadata": {
        "id": "sVpnfu_rAqK7",
        "colab_type": "text"
      },
      "source": [
        "\n",
        "Create a mapper to translate the labels to the actual values."
      ]
    },
    {
      "cell_type": "code",
      "metadata": {
        "id": "ihNPU7HyIlUk",
        "colab_type": "code",
        "colab": {}
      },
      "source": [
        "(x_train_input, y_train_input), (x_test_input, y_test_input) = fashion_mnist.load_data()"
      ],
      "execution_count": 0,
      "outputs": []
    },
    {
      "cell_type": "markdown",
      "metadata": {
        "id": "yYR2Uo4rKGwi",
        "colab_type": "text"
      },
      "source": [
        "The load_data() function on the dataset can be used for the datasets that are included in Keras. The other datasets that can be loaded in the same way can be found on the [Keras website](https://keras.io/datasets/). \n",
        "The load_data() function returns the train and test data set for the MNIST fashion data set. Both the test and train data are divided in two parts, the image and the label. x_train_input contains all the images we are going to use to train the neural network. The y_train_input contains all the labels for those images. \n"
      ]
    },
    {
      "cell_type": "code",
      "metadata": {
        "id": "Fu1IyLtRI_Ga",
        "colab_type": "code",
        "outputId": "4b408026-5be8-4acf-85d3-28f52e1ff2e2",
        "colab": {
          "base_uri": "https://localhost:8080/",
          "height": 286
        }
      },
      "source": [
        "image_index = 8921 # Can be any number between 0 and 59999\n",
        "print(y_train_input[image_index], labels[y_train_input[image_index]])\n",
        "plt.imshow(x_train_input[image_index])\n"
      ],
      "execution_count": 0,
      "outputs": [
        {
          "output_type": "display_data",
          "data": {
            "image/png": "[encoded data removed]",
            "text/plain": [
              "<Figure size 432x288 with 1 Axes>"
            ]
          },
          "metadata": {
            "tags": []
          }
        },
        {
          "output_type": "stream",
          "text": [
            "1 Trouser\n"
          ],
          "name": "stdout"
        }
      ]
    },
    {
      "cell_type": "markdown",
      "metadata": {
        "id": "vgeVD46YKAXb",
        "colab_type": "text"
      },
      "source": [
        "The *matplotlib.pyplot as plt* can be used to show the images in the dataset. \n",
        "We also print the label of that image, which is a number between 1 and 9. With the mapping we can convert this number to the actual name of the label. \n"
      ]
    },
    {
      "cell_type": "code",
      "metadata": {
        "id": "VRuWSJFxP4c4",
        "colab_type": "code",
        "outputId": "b8f8e7c8-c2aa-4eaa-db60-6c8b83aa9bbd",
        "colab": {
          "base_uri": "https://localhost:8080/",
          "height": 51
        }
      },
      "source": [
        "print(x_train_input.shape, y_train_input.shape, x_test_input.shape, y_test_input.shape)\n",
        "print(x_train[8921][26][22])"
      ],
      "execution_count": 0,
      "outputs": [
        {
          "output_type": "stream",
          "text": [
            "(60000, 28, 28) (60000,) (10000, 28, 28) (10000,)\n",
            "229\n"
          ],
          "name": "stdout"
        }
      ]
    },
    {
      "cell_type": "markdown",
      "metadata": {
        "id": "7dMGDTALRXE4",
        "colab_type": "text"
      },
      "source": [
        "In machine learning it is really important to understand and have a feeling for the shapes of the data. \n",
        " We need to make sure the input data matches the first layer of the model.  Above we printed the shape of each data. For x_train_input this is (60000, 28, 28). This means we have a three-dimensional array that contains 60.000 * 28 * 28 data points (~47 million). The 60.000 are the number of images we have in the dataset. The 28, 28 are the height and the width of the images in pixels. Each datapoint is a number between 0 and 255, which represents the color of that pixel. \n",
        "\n",
        "The y_train_input is (60000,) which is a array with 60.000 datapoints. Each datapoint represent the label of the image and is a number between 0 and 9. \n",
        "\n",
        "x_test_input and y_test_input are similar to x_train_input and y_train_input, only with a different amount of images. "
      ]
    },
    {
      "cell_type": "code",
      "metadata": {
        "id": "OJ73y917P8pB",
        "colab_type": "code",
        "outputId": "1c78f241-3289-453f-e1da-1eb01191bb2e",
        "colab": {
          "base_uri": "https://localhost:8080/",
          "height": 34
        }
      },
      "source": [
        "image_size = 28*28\n",
        "# x_train.shape[0] is the amount of images. \n",
        "x_train = x_train_input.reshape(x_train.shape[0], image_size) # Transform from matrix to vector\n",
        "x_train = x_train.astype('float32')\n",
        "x_train /= 255 # Normalize inputs from 0-255 to 0.0-1.0\n",
        "\n",
        "x_test = x_test_input.reshape(x_test.shape[0], image_size) # Transform from matrix to vector\n",
        "x_test = x_test.astype('float32')\n",
        "x_test /= 255 # Normalize inputs from 0-255 to 0.0-1.0\n",
        "\n",
        "print(x_train.shape)"
      ],
      "execution_count": 0,
      "outputs": [
        {
          "output_type": "stream",
          "text": [
            "(60000, 784)\n"
          ],
          "name": "stdout"
        }
      ]
    },
    {
      "cell_type": "markdown",
      "metadata": {
        "id": "LSYNQsx7TZh-",
        "colab_type": "text"
      },
      "source": [
        "The neural network that we are creating is not expecting two dimensional data. (*There are layers that accept two dimensional arrays, which we will see in the next part*) So we have translate the input data into a format the neural network can handle. We can use the reshape function to change the format from a (60000, 28, 28) to a  (60000, 784) array. Furthermore we normalize the data between 0.0 and 1.0, by dividing by 255. "
      ]
    },
    {
      "cell_type": "code",
      "metadata": {
        "id": "IhQ52etaWwle",
        "colab_type": "code",
        "outputId": "12fff239-059f-41f7-db2c-affbefc499cd",
        "colab": {
          "base_uri": "https://localhost:8080/",
          "height": 68
        }
      },
      "source": [
        "num_classes = 10\n",
        "y_train = keras.utils.to_categorical(y_train_input, num_classes)\n",
        "y_test = keras.utils.to_categorical(y_test_input, num_classes)\n",
        "print(y_train.shape, y_test.shape)\n",
        "\n",
        "index_y = 3\n",
        "print(y_train[index_y])\n",
        "print(y_train_input[index_y])\n"
      ],
      "execution_count": 0,
      "outputs": [
        {
          "output_type": "stream",
          "text": [
            "(60000, 10) (10000, 10)\n",
            "[0. 0. 0. 1. 0. 0. 0. 0. 0. 0.]\n",
            "3\n"
          ],
          "name": "stdout"
        }
      ]
    },
    {
      "cell_type": "markdown",
      "metadata": {
        "id": "8J-drBQ_ZN-Q",
        "colab_type": "text"
      },
      "source": [
        "We also have to change the format of the labels, since the numerical values of the labels have no relation with each other. To do this, we can use the keras utils to map each label to a single column. Each Shirt (0), has 1 in the first column. All other labels have 0 in that column. The model will predict the likelyhood for each category whether that is the item in the picture.\n",
        "\n",
        "\n",
        "![wow](https://github.com/Barttje/summercourse-ml/blob/master/one_hot_encoding.png?raw=true)\n",
        "\n"
      ]
    },
    {
      "cell_type": "markdown",
      "metadata": {
        "id": "TLJJOvYKyQtT",
        "colab_type": "text"
      },
      "source": [
        "#Creating and training the neural network"
      ]
    },
    {
      "cell_type": "code",
      "metadata": {
        "id": "rnOSVRnFYKH6",
        "colab_type": "code",
        "outputId": "b0c00466-e526-431e-8cd0-5fd52d5df36f",
        "colab": {
          "base_uri": "https://localhost:8080/",
          "height": 232
        }
      },
      "source": [
        "neurons_in_hidden_layer=512\n",
        "model = Sequential()\n",
        "model.add(Dense(units=neurons_in_hidden_layer, activation='relu', input_shape=(image_size,))) # Input layer\n",
        "model.add(Dense(units=num_classes, activation='softmax')) # Output layer\n",
        "model.compile(optimizer=\"adam\", loss='categorical_crossentropy')"
      ],
      "execution_count": 0,
      "outputs": [
        {
          "output_type": "error",
          "ename": "NameError",
          "evalue": "ignored",
          "traceback": [
            "\u001b[0;31m---------------------------------------------------------------------------\u001b[0m",
            "\u001b[0;31mNameError\u001b[0m                                 Traceback (most recent call last)",
            "\u001b[0;32m<ipython-input-1-a3557876b424>\u001b[0m in \u001b[0;36m<module>\u001b[0;34m()\u001b[0m\n\u001b[1;32m      1\u001b[0m \u001b[0mneurons_in_hidden_layer\u001b[0m\u001b[0;34m=\u001b[0m\u001b[0;36m512\u001b[0m\u001b[0;34m\u001b[0m\u001b[0;34m\u001b[0m\u001b[0m\n\u001b[0;32m----> 2\u001b[0;31m \u001b[0mmodel\u001b[0m \u001b[0;34m=\u001b[0m \u001b[0mSequential\u001b[0m\u001b[0;34m(\u001b[0m\u001b[0;34m)\u001b[0m\u001b[0;34m\u001b[0m\u001b[0;34m\u001b[0m\u001b[0m\n\u001b[0m\u001b[1;32m      3\u001b[0m \u001b[0mmodel\u001b[0m\u001b[0;34m.\u001b[0m\u001b[0madd\u001b[0m\u001b[0;34m(\u001b[0m\u001b[0mDense\u001b[0m\u001b[0;34m(\u001b[0m\u001b[0munits\u001b[0m\u001b[0;34m=\u001b[0m\u001b[0mneurons_in_hidden_layer\u001b[0m\u001b[0;34m,\u001b[0m \u001b[0mactivation\u001b[0m\u001b[0;34m=\u001b[0m\u001b[0;34m'relu'\u001b[0m\u001b[0;34m,\u001b[0m \u001b[0minput_shape\u001b[0m\u001b[0;34m=\u001b[0m\u001b[0;34m(\u001b[0m\u001b[0mimage_size\u001b[0m\u001b[0;34m,\u001b[0m\u001b[0;34m)\u001b[0m\u001b[0;34m)\u001b[0m\u001b[0;34m)\u001b[0m \u001b[0;31m# Input layer\u001b[0m\u001b[0;34m\u001b[0m\u001b[0;34m\u001b[0m\u001b[0m\n\u001b[1;32m      4\u001b[0m \u001b[0mmodel\u001b[0m\u001b[0;34m.\u001b[0m\u001b[0madd\u001b[0m\u001b[0;34m(\u001b[0m\u001b[0mDense\u001b[0m\u001b[0;34m(\u001b[0m\u001b[0munits\u001b[0m\u001b[0;34m=\u001b[0m\u001b[0mnum_classes\u001b[0m\u001b[0;34m,\u001b[0m \u001b[0mactivation\u001b[0m\u001b[0;34m=\u001b[0m\u001b[0;34m'softmax'\u001b[0m\u001b[0;34m)\u001b[0m\u001b[0;34m)\u001b[0m \u001b[0;31m# Output layer\u001b[0m\u001b[0;34m\u001b[0m\u001b[0;34m\u001b[0m\u001b[0m\n\u001b[1;32m      5\u001b[0m \u001b[0mmodel\u001b[0m\u001b[0;34m.\u001b[0m\u001b[0mcompile\u001b[0m\u001b[0;34m(\u001b[0m\u001b[0moptimizer\u001b[0m\u001b[0;34m=\u001b[0m\u001b[0;34m\"adam\"\u001b[0m\u001b[0;34m,\u001b[0m \u001b[0mloss\u001b[0m\u001b[0;34m=\u001b[0m\u001b[0;34m'categorical_crossentropy'\u001b[0m\u001b[0;34m,\u001b[0m \u001b[0mmetrics\u001b[0m\u001b[0;34m=\u001b[0m\u001b[0;34m[\u001b[0m\u001b[0;34m'accuracy'\u001b[0m\u001b[0;34m]\u001b[0m\u001b[0;34m)\u001b[0m\u001b[0;34m\u001b[0m\u001b[0;34m\u001b[0m\u001b[0m\n",
            "\u001b[0;31mNameError\u001b[0m: name 'Sequential' is not defined"
          ]
        }
      ]
    },
    {
      "cell_type": "markdown",
      "metadata": {
        "id": "qDyP7Nz3ZKu3",
        "colab_type": "text"
      },
      "source": [
        "Explain layers\n",
        "![alt text](https://raw.githubusercontent.com/Barttje/summercourse-ml/master/Neural_network_fashion_1.png)\n",
        "Explain loss functions\n",
        "Explain optimizer\n",
        "Explain activation functions"
      ]
    },
    {
      "cell_type": "code",
      "metadata": {
        "id": "nHjoWHgCYUyo",
        "colab_type": "code",
        "outputId": "eba99bba-2221-4938-8aac-e3803f131388",
        "colab": {
          "base_uri": "https://localhost:8080/",
          "height": 374
        }
      },
      "source": [
        "epochs = 10\n",
        "history = model.fit(x_train, y_train, validation_split=0.2, epochs=epochs)"
      ],
      "execution_count": 0,
      "outputs": [
        {
          "output_type": "stream",
          "text": [
            "Train on 48000 samples, validate on 12000 samples\n",
            "Epoch 1/10\n",
            "48000/48000 [==============================] - 15s 307us/step - loss: 0.4907 - acc: 0.8256 - val_loss: 0.3855 - val_acc: 0.8605\n",
            "Epoch 2/10\n",
            "48000/48000 [==============================] - 14s 287us/step - loss: 0.3692 - acc: 0.8641 - val_loss: 0.3903 - val_acc: 0.8557\n",
            "Epoch 3/10\n",
            "48000/48000 [==============================] - 13s 275us/step - loss: 0.3315 - acc: 0.8769 - val_loss: 0.3559 - val_acc: 0.8718\n",
            "Epoch 4/10\n",
            "48000/48000 [==============================] - 14s 285us/step - loss: 0.3030 - acc: 0.8878 - val_loss: 0.3379 - val_acc: 0.8800\n",
            "Epoch 5/10\n",
            "48000/48000 [==============================] - 13s 271us/step - loss: 0.2842 - acc: 0.8945 - val_loss: 0.3470 - val_acc: 0.8737\n",
            "Epoch 6/10\n",
            "48000/48000 [==============================] - 13s 277us/step - loss: 0.2659 - acc: 0.9000 - val_loss: 0.3307 - val_acc: 0.8833\n",
            "Epoch 7/10\n",
            "48000/48000 [==============================] - 14s 287us/step - loss: 0.2545 - acc: 0.9040 - val_loss: 0.3153 - val_acc: 0.8890\n",
            "Epoch 8/10\n",
            "48000/48000 [==============================] - 14s 286us/step - loss: 0.2444 - acc: 0.9084 - val_loss: 0.3192 - val_acc: 0.8868\n",
            "Epoch 9/10\n",
            "48000/48000 [==============================] - 14s 294us/step - loss: 0.2328 - acc: 0.9128 - val_loss: 0.3235 - val_acc: 0.8882\n",
            "Epoch 10/10\n",
            "48000/48000 [==============================] - 14s 286us/step - loss: 0.2236 - acc: 0.9155 - val_loss: 0.3290 - val_acc: 0.8875\n"
          ],
          "name": "stdout"
        }
      ]
    },
    {
      "cell_type": "markdown",
      "metadata": {
        "id": "j50yPJq6ZFY4",
        "colab_type": "text"
      },
      "source": [
        "explain epochs and validation split \n",
        "\n",
        "\n"
      ]
    },
    {
      "cell_type": "code",
      "metadata": {
        "id": "O_9m3bWmYzZi",
        "colab_type": "code",
        "outputId": "bc7fe7cb-44fc-4e1c-ec59-bf5de0cd6354",
        "colab": {
          "base_uri": "https://localhost:8080/",
          "height": 51
        }
      },
      "source": [
        "loss, accuracy  = model.evaluate(x_test, y_test)\n",
        "print(loss, accuracy)"
      ],
      "execution_count": 0,
      "outputs": [
        {
          "output_type": "stream",
          "text": [
            "10000/10000 [==============================] - 1s 63us/step\n",
            "0.34136612924933435 0.8843\n"
          ],
          "name": "stdout"
        }
      ]
    },
    {
      "cell_type": "markdown",
      "metadata": {
        "id": "zueKzFx_Y-0L",
        "colab_type": "text"
      },
      "source": [
        "explain loss and accuracy"
      ]
    },
    {
      "cell_type": "markdown",
      "metadata": {
        "id": "zsQl05l3yXDW",
        "colab_type": "text"
      },
      "source": [
        "#Applying the model"
      ]
    },
    {
      "cell_type": "code",
      "metadata": {
        "id": "pIgN8-_4ZRNO",
        "colab_type": "code",
        "outputId": "413785d4-9357-405b-e335-f633c90b9748",
        "colab": {
          "base_uri": "https://localhost:8080/",
          "height": 354
        }
      },
      "source": [
        "index = 6293\n",
        "pred = model.predict(x_test[-index:-index+1]) \n",
        "print(pred)\n",
        "print(pred.argmax(), labels[pred.argmax()])\n",
        "print(y_test[-index:-index+1].argmax(), labels[y_test[-index:-index+1].argmax()] )\n",
        "plt.imshow(x_test[-index:-index+1][0].reshape(28,28))\n",
        "\n"
      ],
      "execution_count": 0,
      "outputs": [
        {
          "output_type": "stream",
          "text": [
            "[[0.09927769 0.04473818 0.07418048 0.08523015 0.11538069 0.21577431\n",
            "  0.07970487 0.12280151 0.03475258 0.12815952]]\n",
            "5 Sandal\n",
            "9 Ankle boot\n"
          ],
          "name": "stdout"
        },
        {
          "output_type": "execute_result",
          "data": {
            "text/plain": [
              "<matplotlib.image.AxesImage at 0x7fbff5f68dd8>"
            ]
          },
          "metadata": {
            "tags": []
          },
          "execution_count": 71
        },
        {
          "output_type": "display_data",
          "data": {
            "image/png": "[encoded data removed]",
            "text/plain": [
              "<Figure size 432x288 with 1 Axes>"
            ]
          },
          "metadata": {
            "tags": []
          }
        }
      ]
    },
    {
      "cell_type": "markdown",
      "metadata": {
        "id": "laSiVkUBeCpT",
        "colab_type": "text"
      },
      "source": [
        "explain prediction, explain arg max, compare with actual class"
      ]
    },
    {
      "cell_type": "code",
      "metadata": {
        "id": "lw49O5z7wGtt",
        "colab_type": "code",
        "outputId": "d77e2750-d31e-4934-eb05-e567b81ec1b8",
        "colab": {
          "base_uri": "https://localhost:8080/",
          "height": 607
        }
      },
      "source": [
        "# list all data in history\n",
        "# summarize history for accuracy\n",
        "plt.plot(history.history['acc'])\n",
        "plt.plot(history.history['val_acc'])\n",
        "plt.title('model accuracy')\n",
        "plt.ylabel('accuracy')\n",
        "plt.xlabel('epoch')\n",
        "plt.legend(['train', 'test'], loc='upper left')\n",
        "plt.show()\n",
        "# summarize history for loss\n",
        "plt.plot(history.history['loss'])\n",
        "plt.plot(history.history['val_loss'])\n",
        "plt.title('model loss')\n",
        "plt.ylabel('loss')\n",
        "plt.xlabel('epoch')\n",
        "plt.legend(['train', 'test'], loc='upper left')\n",
        "plt.show()"
      ],
      "execution_count": 0,
      "outputs": [
        {
          "output_type": "stream",
          "text": [
            "dict_keys(['val_loss', 'val_acc', 'loss', 'acc'])\n",
            "dict_keys(['val_loss', 'val_acc', 'loss', 'acc'])\n"
          ],
          "name": "stdout"
        },
        {
          "output_type": "display_data",
          "data": {
            "image/png": "[encoded data removed]",
            "text/plain": [
              "<Figure size 432x288 with 1 Axes>"
            ]
          },
          "metadata": {
            "tags": []
          }
        },
        {
          "output_type": "display_data",
          "data": {
            "image/png": "[encoded data removed]",
            "text/plain": [
              "<Figure size 432x288 with 1 Axes>"
            ]
          },
          "metadata": {
            "tags": []
          }
        }
      ]
    },
    {
      "cell_type": "markdown",
      "metadata": {
        "id": "04-OVVJ9GAmQ",
        "colab_type": "text"
      },
      "source": [
        "##Overfitting and Underfitting\n",
        "Overfitting occurs when the model also learns from the noise and inaccurate data. Underfitting occurs when the model does not learn anything at all. With overfitting you learn to much from the data and with underfitting you learn not enough from the data. ![Overfitting,underfitting and balanced](https://github.com/Barttje/summercourse-ml/blob/master/Overfitting_underfitting.png?raw=true)\n",
        "### Detecting overfitting/underfitting\n",
        "Underfitting occurs when the loss is very high and the accuray is very low. Overfitting occurs when there is a gap between the accuracy and loss of the training data set and of the test data set. \n",
        "#### Handling overfitting\n",
        "Early Stopping: Its rules provide us the guidance as to how many iterations can be run before learner begins to over-fit.\n",
        "Drop out layers: \n",
        "#### Handling underfitting\n",
        "Try to get more input data. \n",
        "Try more epochs. Check if score is increasing. \n",
        "If there is high bias, try to increase the complexity of the model, by adding more layers. "
      ]
    }
  ]
}