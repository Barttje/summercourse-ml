{
  "nbformat": 4,
  "nbformat_minor": 0,
  "metadata": {
    "colab": {
      "name": "neural_network_1.ipynb",
      "version": "0.3.2",
      "provenance": [],
      "include_colab_link": true
    },
    "kernelspec": {
      "name": "python3",
      "display_name": "Python 3"
    }
  },
  "cells": [
    {
      "cell_type": "markdown",
      "metadata": {
        "id": "view-in-github",
        "colab_type": "text"
      },
      "source": [
        "<a href=\"https://colab.research.google.com/github/Barttje/summercourse-ml/blob/master/neural_network_1.ipynb\" target=\"_parent\"><img src=\"https://colab.research.google.com/assets/colab-badge.svg\" alt=\"Open In Colab\"/></a>"
      ]
    },
    {
      "cell_type": "markdown",
      "metadata": {
        "id": "Zt3QsZrmpHsM",
        "colab_type": "text"
      },
      "source": [
        "**Important!**  Set your hardware accelator to GPU. This can be done by selecting *Runtime* in the menu,  choose *Change runtime type* and set Hardware accelator to **GPU**.\n",
        "# Codecentric Summercourse ML \n",
        "This is part one of the summercourse ML organised by Codecentric. \n",
        "## Neural network\n",
        "In this tutorial we are going to explain how to create a neural network in Keras that is used for classifying the MNIST fashion data set. This is a dataset of 60.000 Zalando's article images.\n",
        "Each training and test example is assigned to one of the following labels:\n",
        "0. T-Shirt\n",
        "1. Trouser\n",
        "2. Pullover\n",
        "3. Dress\n",
        "4. Coat\n",
        "5. Sandal\n",
        "6. Shirt\n",
        "7. Sneaker\n",
        "8. Bag\n",
        "9. Ankle boot \n",
        "\n",
        "More information about the data set can be found [here](https://www.kaggle.com/zalando-research/fashionmnist).\n"
      ]
    },
    {
      "cell_type": "code",
      "metadata": {
        "id": "wLSOUbymSVea",
        "colab_type": "code",
        "colab": {}
      },
      "source": [
        ""
      ],
      "execution_count": 0,
      "outputs": []
    },
    {
      "cell_type": "markdown",
      "metadata": {
        "id": "u8gO5xgXe1tv",
        "colab_type": "text"
      },
      "source": [
        ""
      ]
    },
    {
      "cell_type": "markdown",
      "metadata": {
        "id": "feiNW8bqyI1c",
        "colab_type": "text"
      },
      "source": [
        "#Imports"
      ]
    },
    {
      "cell_type": "code",
      "metadata": {
        "id": "TJX7HcvQpFyW",
        "colab_type": "code",
        "outputId": "082e8efd-c877-4005-850a-648636d25ae8",
        "colab": {
          "base_uri": "https://localhost:8080/",
          "height": 34
        }
      },
      "source": [
        "import keras # needed for the keras.utils\n",
        "from keras.datasets import fashion_mnist # the data set\n",
        "from keras.layers import Dense, Dropout # the layers we will be using in this example\n",
        "from keras.models import Sequential # The model we will be using in this example\n",
        "import matplotlib.pyplot as plt # A standard library for showing images\n",
        "import numpy as np # For data processing, we use this to convert a single image to an array"
      ],
      "execution_count": 0,
      "outputs": [
        {
          "output_type": "stream",
          "text": [
            "Using TensorFlow backend.\n"
          ],
          "name": "stderr"
        }
      ]
    },
    {
      "cell_type": "markdown",
      "metadata": {
        "id": "hmfihgWCyESp",
        "colab_type": "text"
      },
      "source": [
        "#Data preprocessing"
      ]
    },
    {
      "cell_type": "code",
      "metadata": {
        "id": "voxKUe00uvtq",
        "colab_type": "code",
        "outputId": "06362a2b-b3da-4035-b68e-dd8ea19bde18",
        "colab": {
          "base_uri": "https://localhost:8080/",
          "height": 34
        }
      },
      "source": [
        "labels = {0:\"T-Shirt\", 1:\"Trouser\", 2:\"Pullover\", 3:\"Dress\", 4:\"Coat\",5:\"Sandal\",6:\"Shirt\",7:\"Sneaker\",8:\"Bag\",9:\"Ankle boot\"}\n",
        "print(labels[2])"
      ],
      "execution_count": 0,
      "outputs": [
        {
          "output_type": "stream",
          "text": [
            "Pullover\n"
          ],
          "name": "stdout"
        }
      ]
    },
    {
      "cell_type": "markdown",
      "metadata": {
        "id": "sVpnfu_rAqK7",
        "colab_type": "text"
      },
      "source": [
        "\n",
        "Create a mapper to translate the labels to the names they represent."
      ]
    },
    {
      "cell_type": "code",
      "metadata": {
        "id": "ihNPU7HyIlUk",
        "colab_type": "code",
        "outputId": "83fce3a3-6b52-4453-fdc1-6529919af235",
        "colab": {
          "base_uri": "https://localhost:8080/",
          "height": 153
        }
      },
      "source": [
        "(x_train_input, y_train_input), (x_test_input, y_test_input) = fashion_mnist.load_data()"
      ],
      "execution_count": 0,
      "outputs": [
        {
          "output_type": "stream",
          "text": [
            "Downloading data from http://fashion-mnist.s3-website.eu-central-1.amazonaws.com/train-labels-idx1-ubyte.gz\n",
            "32768/29515 [=================================] - 0s 4us/step\n",
            "Downloading data from http://fashion-mnist.s3-website.eu-central-1.amazonaws.com/train-images-idx3-ubyte.gz\n",
            "26427392/26421880 [==============================] - 2s 0us/step\n",
            "Downloading data from http://fashion-mnist.s3-website.eu-central-1.amazonaws.com/t10k-labels-idx1-ubyte.gz\n",
            "8192/5148 [===============================================] - 0s 0us/step\n",
            "Downloading data from http://fashion-mnist.s3-website.eu-central-1.amazonaws.com/t10k-images-idx3-ubyte.gz\n",
            "4423680/4422102 [==============================] - 5s 1us/step\n"
          ],
          "name": "stdout"
        }
      ]
    },
    {
      "cell_type": "markdown",
      "metadata": {
        "id": "yYR2Uo4rKGwi",
        "colab_type": "text"
      },
      "source": [
        "The load_data() function on the dataset can be used for the datasets that are included in Keras. The other datasets that can be loaded in the same way can be found on the [Keras website](https://keras.io/datasets/). \n",
        "The load_data() function returns the train and test data set for the MNIST fashion data set. Both the test and train data are divided in two parts, the images and the labels. *x_train_input* contains all the images we are going to use to train the neural network. The *y_train_input* contains all the labels for those images. \n"
      ]
    },
    {
      "cell_type": "code",
      "metadata": {
        "id": "Fu1IyLtRI_Ga",
        "colab_type": "code",
        "outputId": "1bdf0d3d-3815-4e93-fcb1-9d55850eeb98",
        "colab": {
          "base_uri": "https://localhost:8080/",
          "height": 303
        }
      },
      "source": [
        "image_index = 8921 # Can be any number between 0 and 59999\n",
        "print(y_train_input[image_index], labels[y_train_input[image_index]])\n",
        "plt.imshow(x_train_input[image_index])\n"
      ],
      "execution_count": 0,
      "outputs": [
        {
          "output_type": "stream",
          "text": [
            "1 Trouser\n"
          ],
          "name": "stdout"
        },
        {
          "output_type": "execute_result",
          "data": {
            "text/plain": [
              "<matplotlib.image.AxesImage at 0x7f907f45bc50>"
            ]
          },
          "metadata": {
            "tags": []
          },
          "execution_count": 4
        },
        {
          "output_type": "display_data",
          "data": {
            "image/png": "[encoded data removed]",
            "text/plain": [
              "<Figure size 432x288 with 1 Axes>"
            ]
          },
          "metadata": {
            "tags": []
          }
        }
      ]
    },
    {
      "cell_type": "markdown",
      "metadata": {
        "id": "vgeVD46YKAXb",
        "colab_type": "text"
      },
      "source": [
        "The *matplotlib.pyplot as plt* can be used to show the images in the dataset. \n",
        "We also print the label of that image, which is a number between 1 and 9. With the mapping we can convert this number to the name that this number represents.\n"
      ]
    },
    {
      "cell_type": "code",
      "metadata": {
        "id": "VRuWSJFxP4c4",
        "colab_type": "code",
        "outputId": "784cc4fd-6663-4707-b903-410433da7f36",
        "colab": {
          "base_uri": "https://localhost:8080/",
          "height": 51
        }
      },
      "source": [
        "print(x_train_input.shape, y_train_input.shape, x_test_input.shape, y_test_input.shape)\n",
        "print(x_train_input[8921][26][22])"
      ],
      "execution_count": 0,
      "outputs": [
        {
          "output_type": "stream",
          "text": [
            "(60000, 28, 28) (60000,) (10000, 28, 28) (10000,)\n",
            "229\n"
          ],
          "name": "stdout"
        }
      ]
    },
    {
      "cell_type": "markdown",
      "metadata": {
        "id": "7dMGDTALRXE4",
        "colab_type": "text"
      },
      "source": [
        "In machine learning it is really important to understand and have a feeling for the shapes of the data. \n",
        " We need to make sure the input data matches the first layer of the model and the output matches the output of the final layer of the model. Above we printed the shape of each data. For *x_train_input* this is (60000, 28, 28). This means we have a three-dimensional array that contains 60.000 * 28 * 28 data points (~47 million). The 60.000 are the number of images we have in the dataset. The 28, 28 are the height and the width of the images in pixels. Each datapoint is a number between 0 and 255, which represents the darkness of that pixel. \n",
        "\n",
        "The *y_train_input* is (60000,) which is a array with 60.000 datapoints. Each datapoint represent the label of the image and is a number between 0 and 9. \n",
        "\n",
        "*x_test_input* and *y_test_input* are similar to *x_train_input* and *y_train_input*, only with a different amount of images. "
      ]
    },
    {
      "cell_type": "code",
      "metadata": {
        "id": "OJ73y917P8pB",
        "colab_type": "code",
        "outputId": "9f142e86-81ba-47c9-9650-d05ff98cd677",
        "colab": {
          "base_uri": "https://localhost:8080/",
          "height": 34
        }
      },
      "source": [
        "image_size = x_train_input.shape[1] * x_train_input.shape[2] # shape was 60000, 28, 28. So the images are 28 by 28\n",
        "# x_train.shape[0] is the amount of images. \n",
        "x_train = x_train_input.reshape(x_train_input.shape[0], image_size) # Transform from matrix to vector\n",
        "x_train = x_train.astype('float32') # convert the values to values that can be divided in python\n",
        "x_train /= 255 # Normalize inputs from 0-255 to 0.0-1.0\n",
        "\n",
        "x_test = x_test_input.reshape(x_test_input.shape[0], image_size) # Transform from matrix to vector\n",
        "x_test = x_test.astype('float32') # convert the values to values that can be divided in python\n",
        "x_test /= 255 # Normalize inputs from 0-255 to 0.0-1.0\n",
        "\n",
        "print(x_train.shape)"
      ],
      "execution_count": 0,
      "outputs": [
        {
          "output_type": "stream",
          "text": [
            "(60000, 784)\n"
          ],
          "name": "stdout"
        }
      ]
    },
    {
      "cell_type": "markdown",
      "metadata": {
        "id": "LSYNQsx7TZh-",
        "colab_type": "text"
      },
      "source": [
        "The neural network that we are creating is not expecting two dimensional data. (*There are layers that accept two dimensional arrays, which we will see in the next part*) So we have translate the input data into a format the neural network can handle. We can use the reshape function to change the format from a (60000, 28, 28) to a  (60000, 784) array. Furthermore we normalize the data between 0.0 and 1.0, by dividing by 255. "
      ]
    },
    {
      "cell_type": "code",
      "metadata": {
        "id": "IhQ52etaWwle",
        "colab_type": "code",
        "outputId": "050b5bbd-aed3-4683-faf7-669ada077f6d",
        "colab": {
          "base_uri": "https://localhost:8080/",
          "height": 68
        }
      },
      "source": [
        "num_classes = 10\n",
        "y_train = keras.utils.to_categorical(y_train_input, num_classes)\n",
        "y_test = keras.utils.to_categorical(y_test_input, num_classes)\n",
        "print(y_train.shape, y_test.shape)\n",
        "\n",
        "index_y = 3\n",
        "print(y_train[index_y])\n",
        "print(y_train_input[index_y])\n"
      ],
      "execution_count": 0,
      "outputs": [
        {
          "output_type": "stream",
          "text": [
            "(60000, 10) (10000, 10)\n",
            "[0. 0. 0. 1. 0. 0. 0. 0. 0. 0.]\n",
            "3\n"
          ],
          "name": "stdout"
        }
      ]
    },
    {
      "cell_type": "markdown",
      "metadata": {
        "id": "8J-drBQ_ZN-Q",
        "colab_type": "text"
      },
      "source": [
        "We also have to change the format of the labels, since the numerical values of the labels have no relation with each other. To do this, we can use the keras utils to map each label to a single column. Each Shirt (0), has 1 in the first column. All other labels have 0 in that column. This means the model will output a single value for each item. \n",
        "\n",
        "![wow](https://github.com/Barttje/summercourse-ml/blob/master/one_hot_encoding.png?raw=true)\n",
        "\n"
      ]
    },
    {
      "cell_type": "markdown",
      "metadata": {
        "id": "TLJJOvYKyQtT",
        "colab_type": "text"
      },
      "source": [
        "#Creating and training the neural network"
      ]
    },
    {
      "cell_type": "code",
      "metadata": {
        "id": "rnOSVRnFYKH6",
        "colab_type": "code",
        "outputId": "708f7fe7-eb31-46d0-eda3-52e2fbecdfe5",
        "colab": {
          "base_uri": "https://localhost:8080/",
          "height": 258
        }
      },
      "source": [
        "neurons_in_hidden_layer=512\n",
        "model = Sequential()\n",
        "model.add(Dense(units=neurons_in_hidden_layer, activation='relu', input_shape=(image_size,))) # Input layer - > Hidden Layer\n",
        "#model.add(Dropout(0.5)) # see section overfitting\n",
        "model.add(Dense(units=num_classes, activation='softmax')) # Hidden Layer -> Output layer\n",
        "model.compile(optimizer=\"adam\", loss='categorical_crossentropy', metrics=[\"accuracy\"])\n",
        "\n",
        "print(\"input: \", model.input)\n",
        "print(\"output: \", model.output)"
      ],
      "execution_count": 0,
      "outputs": [
        {
          "output_type": "stream",
          "text": [
            "WARNING: Logging before flag parsing goes to stderr.\n",
            "W0719 08:12:48.282307 140259555719040 deprecation_wrapper.py:119] From /usr/local/lib/python3.6/dist-packages/keras/backend/tensorflow_backend.py:74: The name tf.get_default_graph is deprecated. Please use tf.compat.v1.get_default_graph instead.\n",
            "\n",
            "W0719 08:12:48.321912 140259555719040 deprecation_wrapper.py:119] From /usr/local/lib/python3.6/dist-packages/keras/backend/tensorflow_backend.py:517: The name tf.placeholder is deprecated. Please use tf.compat.v1.placeholder instead.\n",
            "\n",
            "W0719 08:12:48.330035 140259555719040 deprecation_wrapper.py:119] From /usr/local/lib/python3.6/dist-packages/keras/backend/tensorflow_backend.py:4138: The name tf.random_uniform is deprecated. Please use tf.random.uniform instead.\n",
            "\n",
            "W0719 08:12:48.372797 140259555719040 deprecation_wrapper.py:119] From /usr/local/lib/python3.6/dist-packages/keras/optimizers.py:790: The name tf.train.Optimizer is deprecated. Please use tf.compat.v1.train.Optimizer instead.\n",
            "\n",
            "W0719 08:12:48.406015 140259555719040 deprecation_wrapper.py:119] From /usr/local/lib/python3.6/dist-packages/keras/backend/tensorflow_backend.py:3295: The name tf.log is deprecated. Please use tf.math.log instead.\n",
            "\n"
          ],
          "name": "stderr"
        },
        {
          "output_type": "stream",
          "text": [
            "input:  Tensor(\"dense_1_input:0\", shape=(?, 784), dtype=float32)\n",
            "output:  Tensor(\"dense_2/Softmax:0\", shape=(?, 10), dtype=float32)\n"
          ],
          "name": "stdout"
        }
      ]
    },
    {
      "cell_type": "markdown",
      "metadata": {
        "id": "qDyP7Nz3ZKu3",
        "colab_type": "text"
      },
      "source": [
        "So here we have defined three layers in the model. Although it looks like we only added two layers to the model, we are adding connectinons between layers to our model. So in our model, the first dense layer is the connection between the input layer and the hidden layer. The second dense layer is the connection between the hidden layer and the output layer.  ![alt text](https://raw.githubusercontent.com/Barttje/summercourse-ml/master/Neural_network_fashion_1.png)\n",
        "\n",
        "So the first dense layer has as input the image size, since this has to match with *x_training*. The units are the outputs of a layer, which we set to 512 for the first layer. This also means that the second dense layer has as input the 512 values, which we do not have to configure. As output ( units) for this layers we define the number of classes. This has to match the shape of the *y_training*.\n",
        "\n",
        "To see if we did this correctly the following will print the input and the output the model expects. \n",
        "```\n",
        "print(\"input: \", model.input)\n",
        "print(\"output: \", model.input)\n",
        "\n",
        "```\n",
        "\n",
        "In our case it will print the following: \n",
        "\n",
        "*input:  Tensor(\"dense_19_input:0\", shape=(?, 784), dtype=float32)*\n",
        "\n",
        "*output:  Tensor(\"dense_20/Softmax:0\", shape=(?, 10), dtype=float32)*\n",
        "\n",
        "The input for the model is shape *(?, 784)*, which means a two dimensional array where the second dimension has 784 values. It does not matter how many images we have, but they have to be of size 784. Which has to match the shape of *X_training* and *X_test*\n",
        "\n",
        "The output of the model is shape *(?,10)*, which means we get 10 values for each image we put in the model. A prediction for each possible item, which has to match the shape of our *y_training* and *y_test*.\n",
        "\n",
        "The other parameters for the models are the activation function, which is usually *relu*, but when you are dealing with a classification problem the *softmax* activation function is a good idea for the last layer. More information about the possible activation functions in Keras can be found [here](https://keras.io/activations/). More information about the theory behind activation functions can be found [here](https://medium.com/the-theory-of-everything/understanding-activation-functions-in-neural-networks-9491262884e0). \n",
        "\n",
        "We can also configure the optimizer, which is the algortihm that updates the weights during training. *adam* is the most popular one, so we use that one. More information about the possible optimizers in Keras can be found [here](https://keras.io/optimizers/) and more information about the theory behind optizimers can be found [here](https://towardsdatascience.com/types-of-optimization-algorithms-used-in-neural-networks-and-ways-to-optimize-gradient-95ae5d39529f). \n",
        "\n",
        "Finally we configure the loss function during training. The loss functions measures how well the model is working on the data set. One of the most popular ones is the mean squared error. However for classification problems that predict 0 or 1, the *categorical_crossentropy* works better. All the possible  loss functions in Keras can be found [here](https://keras.io/losses/) and [this](https://machinelearningmastery.com/how-to-choose-loss-functions-when-training-deep-learning-neural-networks/) is a great article explaining more about which one to choose."
      ]
    },
    {
      "cell_type": "code",
      "metadata": {
        "id": "nHjoWHgCYUyo",
        "colab_type": "code",
        "outputId": "de8ad275-6211-4198-9cd5-4db10add5300",
        "colab": {
          "base_uri": "https://localhost:8080/",
          "height": 649
        }
      },
      "source": [
        "epochs = 15\n",
        "history = model.fit(x_train, y_train, validation_split=0.8, epochs=epochs)"
      ],
      "execution_count": 0,
      "outputs": [
        {
          "output_type": "stream",
          "text": [
            "W0719 08:12:48.577844 140259555719040 deprecation.py:323] From /usr/local/lib/python3.6/dist-packages/tensorflow/python/ops/math_grad.py:1250: add_dispatch_support.<locals>.wrapper (from tensorflow.python.ops.array_ops) is deprecated and will be removed in a future version.\n",
            "Instructions for updating:\n",
            "Use tf.where in 2.0, which has the same broadcast rule as np.where\n",
            "W0719 08:12:48.635489 140259555719040 deprecation_wrapper.py:119] From /usr/local/lib/python3.6/dist-packages/keras/backend/tensorflow_backend.py:986: The name tf.assign_add is deprecated. Please use tf.compat.v1.assign_add instead.\n",
            "\n"
          ],
          "name": "stderr"
        },
        {
          "output_type": "stream",
          "text": [
            "Train on 11999 samples, validate on 48001 samples\n",
            "Epoch 1/15\n",
            "11999/11999 [==============================] - 6s 495us/step - loss: 0.6337 - acc: 0.7785 - val_loss: 0.5415 - val_acc: 0.8152\n",
            "Epoch 2/15\n",
            "11999/11999 [==============================] - 5s 436us/step - loss: 0.4547 - acc: 0.8377 - val_loss: 0.4325 - val_acc: 0.8501\n",
            "Epoch 3/15\n",
            "11999/11999 [==============================] - 5s 436us/step - loss: 0.3990 - acc: 0.8550 - val_loss: 0.4568 - val_acc: 0.8418\n",
            "Epoch 4/15\n",
            "11999/11999 [==============================] - 5s 432us/step - loss: 0.3601 - acc: 0.8693 - val_loss: 0.4173 - val_acc: 0.8498\n",
            "Epoch 5/15\n",
            "11999/11999 [==============================] - 5s 430us/step - loss: 0.3307 - acc: 0.8819 - val_loss: 0.4205 - val_acc: 0.8522\n",
            "Epoch 6/15\n",
            "11999/11999 [==============================] - 5s 431us/step - loss: 0.3044 - acc: 0.8883 - val_loss: 0.4374 - val_acc: 0.8433\n",
            "Epoch 7/15\n",
            "11999/11999 [==============================] - 5s 432us/step - loss: 0.2965 - acc: 0.8904 - val_loss: 0.3856 - val_acc: 0.8654\n",
            "Epoch 8/15\n",
            "11999/11999 [==============================] - 5s 439us/step - loss: 0.2651 - acc: 0.9018 - val_loss: 0.3861 - val_acc: 0.8628\n",
            "Epoch 9/15\n",
            "11999/11999 [==============================] - 5s 429us/step - loss: 0.2578 - acc: 0.9047 - val_loss: 0.3742 - val_acc: 0.8734\n",
            "Epoch 10/15\n",
            "11999/11999 [==============================] - 5s 428us/step - loss: 0.2478 - acc: 0.9094 - val_loss: 0.4153 - val_acc: 0.8599\n",
            "Epoch 11/15\n",
            "11999/11999 [==============================] - 5s 433us/step - loss: 0.2338 - acc: 0.9127 - val_loss: 0.3765 - val_acc: 0.8778\n",
            "Epoch 12/15\n",
            "11999/11999 [==============================] - 5s 438us/step - loss: 0.2290 - acc: 0.9124 - val_loss: 0.4100 - val_acc: 0.8667\n",
            "Epoch 13/15\n",
            "11999/11999 [==============================] - 5s 432us/step - loss: 0.2080 - acc: 0.9215 - val_loss: 0.4861 - val_acc: 0.8455\n",
            "Epoch 14/15\n",
            "11999/11999 [==============================] - 5s 442us/step - loss: 0.1977 - acc: 0.9273 - val_loss: 0.3924 - val_acc: 0.8710\n",
            "Epoch 15/15\n",
            "11999/11999 [==============================] - 5s 439us/step - loss: 0.1933 - acc: 0.9267 - val_loss: 0.4042 - val_acc: 0.8714\n"
          ],
          "name": "stdout"
        }
      ]
    },
    {
      "cell_type": "markdown",
      "metadata": {
        "id": "j50yPJq6ZFY4",
        "colab_type": "text"
      },
      "source": [
        "Here we are going to actually start the training of the model. The most important is the *x_train* and *y_train*. They have to match the input and the output of the model, otherwise we cannot start training. Another import value is the number of epochs, which is the amount of times the whole data set is send through the neural network. Another paramater we will use is the validation split. This means the training will not use all the data, but split it. With *0.2*, we will use *12000/60000* images as validation images. Those will not be used for training the neural network, but after each epoch, the model will also compute the loss and the accuracy for the validation data set. This can be used to detect overfitting and underfitting as we we will explain later. \n",
        "\n"
      ]
    },
    {
      "cell_type": "code",
      "metadata": {
        "id": "O_9m3bWmYzZi",
        "colab_type": "code",
        "outputId": "0f5155c4-7f08-4a7a-8e90-f83535dcc80d",
        "colab": {
          "base_uri": "https://localhost:8080/",
          "height": 51
        }
      },
      "source": [
        "loss, accuracy  = model.evaluate(x_test, y_test)\n",
        "print(loss, accuracy)"
      ],
      "execution_count": 0,
      "outputs": [
        {
          "output_type": "stream",
          "text": [
            "10000/10000 [==============================] - 1s 53us/step\n",
            "0.44886763985157013 0.8626\n"
          ],
          "name": "stdout"
        }
      ]
    },
    {
      "cell_type": "markdown",
      "metadata": {
        "id": "zueKzFx_Y-0L",
        "colab_type": "text"
      },
      "source": [
        "Time to evaluate the model! With model.evaluate(), we can evaluate the model on the test data we kept apart. It is very important that the *x_test* matches the input of the model and *y_test* matches the output of the model. (*We keep repeating this, but is a mistake made very often when starting with Machine Learning)* This will print two scores the accuracy and the loss. Accuracy is the right predictions divided by the number of predictions. The loss is the value computed by the loss function, which hugely depends on the loss function. To get an impression of your scores, it is always good to compare the loss and the accuracy with the loss and the accuracy of the model. "
      ]
    },
    {
      "cell_type": "markdown",
      "metadata": {
        "id": "zsQl05l3yXDW",
        "colab_type": "text"
      },
      "source": [
        "#Applying the model"
      ]
    },
    {
      "cell_type": "code",
      "metadata": {
        "id": "pIgN8-_4ZRNO",
        "colab_type": "code",
        "outputId": "26f22bd3-2fbe-4293-889b-0c9db6ac5743",
        "colab": {
          "base_uri": "https://localhost:8080/",
          "height": 354
        }
      },
      "source": [
        "index = 6293\n",
        "image_flat = np.array([x_test[index]]) # we have to make an array of the image as the model expects (?,784) as input.\n",
        "pred = model.predict(image_flat) \n",
        "print(pred)\n",
        "print(pred.argmax(), labels[pred.argmax()]) #argmax prints the index of the highest value\n",
        "print(y_test[index].argmax(), labels[y_test[index].argmax()] )\n",
        "plt.imshow(x_test_input[index])\n",
        "\n"
      ],
      "execution_count": 0,
      "outputs": [
        {
          "output_type": "stream",
          "text": [
            "[[2.6022279e-01 1.3292338e-02 2.5023564e-03 3.7867662e-01 7.6592230e-04\n",
            "  7.2634481e-05 3.4442538e-01 7.7008353e-06 2.0650268e-05 1.3593215e-05]]\n",
            "3 Dress\n",
            "0 T-Shirt\n"
          ],
          "name": "stdout"
        },
        {
          "output_type": "execute_result",
          "data": {
            "text/plain": [
              "<matplotlib.image.AxesImage at 0x7f90773269e8>"
            ]
          },
          "metadata": {
            "tags": []
          },
          "execution_count": 11
        },
        {
          "output_type": "display_data",
          "data": {
            "image/png": "[encoded data removed]",
            "text/plain": [
              "<Figure size 432x288 with 1 Axes>"
            ]
          },
          "metadata": {
            "tags": []
          }
        }
      ]
    },
    {
      "cell_type": "markdown",
      "metadata": {
        "id": "laSiVkUBeCpT",
        "colab_type": "text"
      },
      "source": [
        "With model.predict(image), we can predict the scores for a single image. Remember that we have to convert the image to an array, since the model is expecting *(?,784)* as input."
      ]
    },
    {
      "cell_type": "code",
      "metadata": {
        "id": "lw49O5z7wGtt",
        "colab_type": "code",
        "outputId": "8259c4cb-e24d-44c9-f0d8-16ca7fbb7c42",
        "colab": {
          "base_uri": "https://localhost:8080/",
          "height": 573
        }
      },
      "source": [
        "# list all data in history\n",
        "# summarize history for accuracy\n",
        "plt.plot(history.history['acc'])\n",
        "plt.plot(history.history['val_acc'])\n",
        "plt.title('model accuracy')\n",
        "plt.ylabel('accuracy')\n",
        "plt.xlabel('epoch')\n",
        "plt.legend(['train', 'test'], loc='upper left')\n",
        "plt.show()\n",
        "# summarize history for loss\n",
        "plt.plot(history.history['loss'])\n",
        "plt.plot(history.history['val_loss'])\n",
        "plt.title('model loss')\n",
        "plt.ylabel('loss')\n",
        "plt.xlabel('epoch')\n",
        "plt.legend(['train', 'test'], loc='upper left')\n",
        "plt.show()"
      ],
      "execution_count": 0,
      "outputs": [
        {
          "output_type": "display_data",
          "data": {
            "image/png": "[encoded data removed]",
            "text/plain": [
              "<Figure size 432x288 with 1 Axes>"
            ]
          },
          "metadata": {
            "tags": []
          }
        },
        {
          "output_type": "display_data",
          "data": {
            "image/png": "[encoded data removed]",
            "text/plain": [
              "<Figure size 432x288 with 1 Axes>"
            ]
          },
          "metadata": {
            "tags": []
          }
        }
      ]
    },
    {
      "cell_type": "markdown",
      "metadata": {
        "id": "04-OVVJ9GAmQ",
        "colab_type": "text"
      },
      "source": [
        "##Overfitting and Underfitting\n",
        "Overfitting occurs when the model also learns from the noise and inaccurate data. Underfitting occurs when the model does not learn anything at all. With overfitting you learn to much from the data and with underfitting you learn not enough from the data. ![Overfitting,underfitting and balanced](https://github.com/Barttje/summercourse-ml/blob/master/Overfitting_underfitting.png?raw=true)\n",
        "### Detecting overfitting/underfitting\n",
        "Underfitting occurs when the loss is very high and the accuray is very low. Overfitting occurs when there is a gap between the accuracy and loss of the training data set and of the test data set. It occurs more often after multiple epochs, when the model is become more and more complex and fitted to the training data instead of a generalized model for the actual problem. \n",
        "![alt text](https://raw.githubusercontent.com/Barttje/summercourse-ml/master/detect_overfitting.png)\n",
        "#### Handling overfitting\n",
        "Early Stopping: Instead of going for more runs, let the training stop at the number of runs when the validation accuracy is starting to decrease and the validation loss is starting to increase. \n",
        "\n",
        "Drop out layers: Instead of using all the output values from the dense layers, the drop out layers remove outputs and only forward a part of the outputs to the next layer. This decreases the chances that the model is going to overfit. \n",
        "#### Handling underfitting\n",
        "Try to get more training data. More and different kind of training data gives the neural network more data to learn from.\n",
        "\n",
        "Try more epochs. If  the accuracy is increasing and loss is decreasing, the neural network might not have enough time to learn from the data yet. \n",
        "\n",
        "Try to increase the complexity of the model by adding more layers and try to play around with increasing amount of neurons in the layers and different activation and loss functions."
      ]
    },
    {
      "cell_type": "code",
      "metadata": {
        "id": "aeKNTNKnS_9m",
        "colab_type": "code",
        "colab": {}
      },
      "source": [
        "neurons_in_hidden_layer=512\n",
        "model = Sequential()\n",
        "model.add(Dense(units=neurons_in_hidden_layer, activation='relu', input_shape=(image_size,))) # Input layer - > Hidden Layer\n",
        "model.add(Dropout(0.5)) # Add dropout layer to reduce overfitting\n",
        "model.add(Dense(units=num_classes, activation='softmax')) # Hidden Layer -> Output layer\n",
        "model.compile(optimizer=\"adam\", loss='categorical_crossentropy', metrics=[\"accuracy\"])"
      ],
      "execution_count": 0,
      "outputs": []
    },
    {
      "cell_type": "markdown",
      "metadata": {
        "id": "NpwdTz_mSXQN",
        "colab_type": "text"
      },
      "source": [
        "# Convolutional Neural Network"
      ]
    },
    {
      "cell_type": "code",
      "metadata": {
        "id": "7YO2WymPSltQ",
        "colab_type": "code",
        "colab": {}
      },
      "source": [
        "from keras.layers import Conv2D, Flatten\n",
        "\n",
        "def reshape_cnn(input):\n",
        "  output = input.reshape(input.shape[0],input.shape[1],input.shape[2],1)\n",
        "  output = output.astype('float32')\n",
        "  output /= 255\n",
        "  return output\n",
        "\n",
        "x_train_cnn = reshape_cnn(x_train_input)\n",
        "x_test_cnn = reshape_cnn(x_test_input)"
      ],
      "execution_count": 0,
      "outputs": []
    },
    {
      "cell_type": "code",
      "metadata": {
        "id": "AvJd3S2_Se-2",
        "colab_type": "code",
        "outputId": "03e91947-b1ac-4de0-814c-de76c3f93a95",
        "colab": {
          "base_uri": "https://localhost:8080/",
          "height": 272
        }
      },
      "source": [
        "cnn_model= Sequential()\n",
        "cnn_model.add(Conv2D(64, kernel_size=3, activation=\"relu\", input_shape=(28,28,1)))\n",
        "cnn_model.add(Flatten())\n",
        "cnn_model.add(Dense(units=num_classes, activation='softmax')) # Hidden Layer -> Output layer\n",
        "cnn_model.compile(optimizer=\"adam\", loss='categorical_crossentropy', metrics=[\"accuracy\"])\n",
        "\n",
        "print(cnn_model.input)\n",
        "print(cnn_model.output)\n",
        "cnn_model.summary()"
      ],
      "execution_count": 0,
      "outputs": [
        {
          "output_type": "stream",
          "text": [
            "Tensor(\"conv2d_9_input:0\", shape=(?, 28, 28, 1), dtype=float32)\n",
            "Tensor(\"dense_9/Softmax:0\", shape=(?, 10), dtype=float32)\n",
            "_________________________________________________________________\n",
            "Layer (type)                 Output Shape              Param #   \n",
            "=================================================================\n",
            "conv2d_9 (Conv2D)            (None, 26, 26, 64)        640       \n",
            "_________________________________________________________________\n",
            "flatten_7 (Flatten)          (None, 43264)             0         \n",
            "_________________________________________________________________\n",
            "dense_9 (Dense)              (None, 10)                432650    \n",
            "=================================================================\n",
            "Total params: 433,290\n",
            "Trainable params: 433,290\n",
            "Non-trainable params: 0\n",
            "_________________________________________________________________\n"
          ],
          "name": "stdout"
        }
      ]
    },
    {
      "cell_type": "code",
      "metadata": {
        "id": "mYXVVXteUfyD",
        "colab_type": "code",
        "outputId": "4b0c598e-3194-41e7-b23d-c7ee7071fcdf",
        "colab": {
          "base_uri": "https://localhost:8080/",
          "height": 102
        }
      },
      "source": [
        "cnn_model.fit(x_train_cnn, y_train, epochs=2)"
      ],
      "execution_count": 0,
      "outputs": [
        {
          "output_type": "stream",
          "text": [
            "Epoch 1/2\n",
            "60000/60000 [==============================] - 58s 967us/step - loss: 0.3944 - acc: 0.8599\n",
            "Epoch 2/2\n",
            "60000/60000 [==============================] - 59s 977us/step - loss: 0.2766 - acc: 0.9019\n"
          ],
          "name": "stdout"
        },
        {
          "output_type": "execute_result",
          "data": {
            "text/plain": [
              "<keras.callbacks.History at 0x7f9076e4d8d0>"
            ]
          },
          "metadata": {
            "tags": []
          },
          "execution_count": 41
        }
      ]
    }
  ]
}