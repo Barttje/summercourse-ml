{
  "nbformat": 4,
  "nbformat_minor": 0,
  "metadata": {
    "colab": {
      "name": "neural_network_1.ipynb",
      "version": "0.3.2",
      "provenance": [],
      "include_colab_link": true
    },
    "kernelspec": {
      "name": "python3",
      "display_name": "Python 3"
    }
  },
  "cells": [
    {
      "cell_type": "markdown",
      "metadata": {
        "id": "view-in-github",
        "colab_type": "text"
      },
      "source": [
        "<a href=\"https://colab.research.google.com/github/Barttje/summercourse-ml/blob/master/neural_network_1.ipynb\" target=\"_parent\"><img src=\"https://colab.research.google.com/assets/colab-badge.svg\" alt=\"Open In Colab\"/></a>"
      ]
    },
    {
      "cell_type": "code",
      "metadata": {
        "id": "ZFXZxJXtG25l",
        "colab_type": "code",
        "colab": {}
      },
      "source": [
        "import keras\n",
        "from keras.datasets import fashion_mnist\n",
        "from keras.layers import Dense\n",
        "from keras.models import Sequential\n",
        "import matplotlib.pyplot as plt"
      ],
      "execution_count": 0,
      "outputs": []
    },
    {
      "cell_type": "code",
      "metadata": {
        "id": "ihNPU7HyIlUk",
        "colab_type": "code",
        "colab": {}
      },
      "source": [
        "(x_train, y_train), (x_test, y_test) = fashion_mnist.load_data()"
      ],
      "execution_count": 0,
      "outputs": []
    },
    {
      "cell_type": "markdown",
      "metadata": {
        "id": "yYR2Uo4rKGwi",
        "colab_type": "text"
      },
      "source": [
        "Initializing the training and test data, the input and the targets. \n",
        "x_train and x_test contain images. "
      ]
    },
    {
      "cell_type": "code",
      "metadata": {
        "id": "Fu1IyLtRI_Ga",
        "colab_type": "code",
        "colab": {
          "base_uri": "https://localhost:8080/",
          "height": 286
        },
        "outputId": "763333f2-3280-4a6e-a06b-f24e62c728a6"
      },
      "source": [
        "plt.imshow(x_train[0])\n",
        "plt.show()\n",
        "print(y_train[0])"
      ],
      "execution_count": 16,
      "outputs": [
        {
          "output_type": "display_data",
          "data": {
            "image/png": "[encoded data removed]",
            "text/plain": [
              "<Figure size 432x288 with 1 Axes>"
            ]
          },
          "metadata": {
            "tags": []
          }
        },
        {
          "output_type": "stream",
          "text": [
            "9\n"
          ],
          "name": "stdout"
        }
      ]
    },
    {
      "cell_type": "markdown",
      "metadata": {
        "id": "vgeVD46YKAXb",
        "colab_type": "text"
      },
      "source": [
        "Images are from a fashion collection. "
      ]
    },
    {
      "cell_type": "code",
      "metadata": {
        "id": "VRuWSJFxP4c4",
        "colab_type": "code",
        "colab": {
          "base_uri": "https://localhost:8080/",
          "height": 34
        },
        "outputId": "5af1f5e4-6a02-43d5-faf4-02e36ea8e957"
      },
      "source": [
        "print(x_train.shape, y_train.shape, x_test.shape, y_test.shape)"
      ],
      "execution_count": 23,
      "outputs": [
        {
          "output_type": "stream",
          "text": [
            "(60000, 28, 28) (60000,) (10000, 28, 28) (10000,)\n"
          ],
          "name": "stdout"
        }
      ]
    },
    {
      "cell_type": "markdown",
      "metadata": {
        "id": "7dMGDTALRXE4",
        "colab_type": "text"
      },
      "source": [
        "Explane more about shapes"
      ]
    },
    {
      "cell_type": "code",
      "metadata": {
        "id": "OJ73y917P8pB",
        "colab_type": "code",
        "colab": {
          "base_uri": "https://localhost:8080/",
          "height": 34
        },
        "outputId": "4ded0b43-66e9-4d4a-9b45-d8a59e18c4c4"
      },
      "source": [
        "image_size = 28*28\n",
        "x_train = x_train.reshape(x_train.shape[0], image_size) # Transform from matrix to vector\n",
        "x_train = x_train.astype('float32')\n",
        "x_train /= 255 # Normalize inputs from 0-255 to 0.0-1.0\n",
        "\n",
        "x_test = x_test.reshape(x_test.shape[0], image_size) # Transform from matrix to vector\n",
        "x_test = x_test.astype('float32')\n",
        "x_test /= 255 # Normalize inputs from 0-255 to 0.0-1.0\n",
        "\n",
        "print(x_train.shape, x_test.shape)"
      ],
      "execution_count": 35,
      "outputs": [
        {
          "output_type": "stream",
          "text": [
            "(60000, 784) (10000, 784)\n"
          ],
          "name": "stdout"
        }
      ]
    },
    {
      "cell_type": "markdown",
      "metadata": {
        "id": "LSYNQsx7TZh-",
        "colab_type": "text"
      },
      "source": [
        "Explain more about flattening"
      ]
    },
    {
      "cell_type": "code",
      "metadata": {
        "id": "IhQ52etaWwle",
        "colab_type": "code",
        "colab": {
          "base_uri": "https://localhost:8080/",
          "height": 51
        },
        "outputId": "9e3fb952-f3f2-4d2b-ec1b-c02f1563039d"
      },
      "source": [
        "num_classes = 10\n",
        "y_train = keras.utils.to_categorical(y_train, num_classes)\n",
        "y_test = keras.utils.to_categorical(y_test, num_classes)\n",
        "print(y_train.shape, y_test.shape)\n",
        "print(y_train[0])"
      ],
      "execution_count": 32,
      "outputs": [
        {
          "output_type": "stream",
          "text": [
            "(60000, 10) (10000, 10)\n",
            "[0. 0. 0. 0. 0. 0. 0. 0. 0. 1.]\n"
          ],
          "name": "stdout"
        }
      ]
    },
    {
      "cell_type": "markdown",
      "metadata": {
        "id": "8J-drBQ_ZN-Q",
        "colab_type": "text"
      },
      "source": [
        "Explain hot encoding"
      ]
    },
    {
      "cell_type": "code",
      "metadata": {
        "id": "rnOSVRnFYKH6",
        "colab_type": "code",
        "colab": {
          "base_uri": "https://localhost:8080/",
          "height": 88
        },
        "outputId": "52620f15-1a26-440f-dd99-4d7a32d7f2e1"
      },
      "source": [
        "model = Sequential()\n",
        "model.add(Dense(units=512, activation='relu', input_shape=(image_size,))) # Input layer\n",
        "model.add(Dense(units=num_classes, activation='softmax')) # Output layer\n",
        "model.compile(optimizer=\"adam\", loss='categorical_crossentropy', metrics=['accuracy'])"
      ],
      "execution_count": 33,
      "outputs": [
        {
          "output_type": "stream",
          "text": [
            "WARNING:tensorflow:From /usr/local/lib/python3.6/dist-packages/tensorflow/python/framework/op_def_library.py:263: colocate_with (from tensorflow.python.framework.ops) is deprecated and will be removed in a future version.\n",
            "Instructions for updating:\n",
            "Colocations handled automatically by placer.\n"
          ],
          "name": "stdout"
        }
      ]
    },
    {
      "cell_type": "markdown",
      "metadata": {
        "id": "qDyP7Nz3ZKu3",
        "colab_type": "text"
      },
      "source": [
        "Explain layers in the model"
      ]
    },
    {
      "cell_type": "code",
      "metadata": {
        "id": "nHjoWHgCYUyo",
        "colab_type": "code",
        "colab": {
          "base_uri": "https://localhost:8080/",
          "height": 275
        },
        "outputId": "4ce83569-ab52-48ef-ee77-16fdef144632"
      },
      "source": [
        "epochs = 5\n",
        "model.fit(x_train, y_train, epochs=epochs)"
      ],
      "execution_count": 36,
      "outputs": [
        {
          "output_type": "stream",
          "text": [
            "WARNING:tensorflow:From /usr/local/lib/python3.6/dist-packages/tensorflow/python/ops/math_ops.py:3066: to_int32 (from tensorflow.python.ops.math_ops) is deprecated and will be removed in a future version.\n",
            "Instructions for updating:\n",
            "Use tf.cast instead.\n",
            "Epoch 1/5\n",
            "60000/60000 [==============================] - 15s 254us/step - loss: 0.4734 - acc: 0.8303\n",
            "Epoch 2/5\n",
            "60000/60000 [==============================] - 15s 246us/step - loss: 0.3596 - acc: 0.8680\n",
            "Epoch 3/5\n",
            "60000/60000 [==============================] - 15s 251us/step - loss: 0.3223 - acc: 0.8821\n",
            "Epoch 4/5\n",
            "60000/60000 [==============================] - 15s 243us/step - loss: 0.2995 - acc: 0.8885\n",
            "Epoch 5/5\n",
            "60000/60000 [==============================] - 15s 242us/step - loss: 0.2813 - acc: 0.8955\n"
          ],
          "name": "stdout"
        },
        {
          "output_type": "execute_result",
          "data": {
            "text/plain": [
              "<keras.callbacks.History at 0x7fa28e470c50>"
            ]
          },
          "metadata": {
            "tags": []
          },
          "execution_count": 36
        }
      ]
    },
    {
      "cell_type": "markdown",
      "metadata": {
        "id": "j50yPJq6ZFY4",
        "colab_type": "text"
      },
      "source": [
        "explain epochs, optionally batch_size, learning rate etc."
      ]
    },
    {
      "cell_type": "code",
      "metadata": {
        "id": "O_9m3bWmYzZi",
        "colab_type": "code",
        "colab": {
          "base_uri": "https://localhost:8080/",
          "height": 51
        },
        "outputId": "a85ef9c0-26f9-4694-a165-c73b3614a2eb"
      },
      "source": [
        "loss, accuracy  = model.evaluate(x_test, y_test)\n",
        "print(loss, accuracy)"
      ],
      "execution_count": 37,
      "outputs": [
        {
          "output_type": "stream",
          "text": [
            "10000/10000 [==============================] - 1s 51us/step\n",
            "0.38029201385974887 0.8639\n"
          ],
          "name": "stdout"
        }
      ]
    },
    {
      "cell_type": "markdown",
      "metadata": {
        "id": "zueKzFx_Y-0L",
        "colab_type": "text"
      },
      "source": [
        "explain loss and accuracy"
      ]
    },
    {
      "cell_type": "code",
      "metadata": {
        "id": "pIgN8-_4ZRNO",
        "colab_type": "code",
        "colab": {
          "base_uri": "https://localhost:8080/",
          "height": 354
        },
        "outputId": "552cae73-3ba5-47ba-b83a-47a20584d3ec"
      },
      "source": [
        "index = 123\n",
        "pred = model.predict(x_test[-index:-index+1]) \n",
        "print(pred)\n",
        "print(pred.argmax())\n",
        "print(y_test[-index:-index+1].argmax())\n",
        "plt.imshow(x_test[-index:-index+1][0].reshape(28,28))\n",
        "\n"
      ],
      "execution_count": 55,
      "outputs": [
        {
          "output_type": "stream",
          "text": [
            "[[7.1326883e-07 3.0962204e-09 1.2298420e-04 1.2951722e-06 1.6472118e-02\n",
            "  1.0906385e-09 9.8340285e-01 9.7340289e-11 1.5829835e-07 1.8515477e-09]]\n",
            "6\n",
            "6\n"
          ],
          "name": "stdout"
        },
        {
          "output_type": "execute_result",
          "data": {
            "text/plain": [
              "<matplotlib.image.AxesImage at 0x7fa28e5af780>"
            ]
          },
          "metadata": {
            "tags": []
          },
          "execution_count": 55
        },
        {
          "output_type": "display_data",
          "data": {
            "image/png": "[encoded data removed]",
            "text/plain": [
              "<Figure size 432x288 with 1 Axes>"
            ]
          },
          "metadata": {
            "tags": []
          }
        }
      ]
    },
    {
      "cell_type": "markdown",
      "metadata": {
        "id": "laSiVkUBeCpT",
        "colab_type": "text"
      },
      "source": [
        "explain prediction, explain arg max, compare with actual class"
      ]
    }
  ]
}