{
  "nbformat": 4,
  "nbformat_minor": 0,
  "metadata": {
    "colab": {
      "name": "neural_network_1.ipynb",
      "version": "0.3.2",
      "provenance": [],
      "include_colab_link": true
    },
    "kernelspec": {
      "name": "python3",
      "display_name": "Python 3"
    }
  },
  "cells": [
    {
      "cell_type": "markdown",
      "metadata": {
        "id": "view-in-github",
        "colab_type": "text"
      },
      "source": [
        "<a href=\"https://colab.research.google.com/github/Barttje/summercourse-ml/blob/master/neural_network_1.ipynb\" target=\"_parent\"><img src=\"https://colab.research.google.com/assets/colab-badge.svg\" alt=\"Open In Colab\"/></a>"
      ]
    },
    {
      "cell_type": "markdown",
      "metadata": {
        "id": "Zt3QsZrmpHsM",
        "colab_type": "text"
      },
      "source": [
        "# Codecentric Summercourse ML \n",
        "This is part one of the summercourse ML organised by Codecentric. \n",
        "## Neural network\n",
        "In this tutorial we are going to explain how to create a neural network in Keras that is used for classifying the MNIST fashion data set. This is a dataset of 60.000 Zalando's article images.\n",
        "Each training and test example is assigned to one of the following labels:\n",
        "0. T-Shirt\n",
        "1. Trouser\n",
        "2. Pullover\n",
        "3. Dress\n",
        "4. Coat\n",
        "5. Sandal\n",
        "6. Shirt\n",
        "7. Sneaker\n",
        "8. Bag\n",
        "9. Ankle boot \n",
        "\n",
        "More information about the data set can be found [here](https://www.kaggle.com/zalando-research/fashionmnist).\n"
      ]
    },
    {
      "cell_type": "markdown",
      "metadata": {
        "id": "feiNW8bqyI1c",
        "colab_type": "text"
      },
      "source": [
        "#Imports"
      ]
    },
    {
      "cell_type": "code",
      "metadata": {
        "id": "TJX7HcvQpFyW",
        "colab_type": "code",
        "colab": {}
      },
      "source": [
        "import keras\n",
        "from keras.datasets import fashion_mnist\n",
        "from keras.layers import Dense, Dropout\n",
        "from keras.models import Sequential\n",
        "import matplotlib.pyplot as plt"
      ],
      "execution_count": 0,
      "outputs": []
    },
    {
      "cell_type": "markdown",
      "metadata": {
        "id": "hmfihgWCyESp",
        "colab_type": "text"
      },
      "source": [
        "#Data preprocessing"
      ]
    },
    {
      "cell_type": "code",
      "metadata": {
        "id": "voxKUe00uvtq",
        "colab_type": "code",
        "outputId": "be532ecc-823f-4234-8002-67c25687a058",
        "colab": {
          "base_uri": "https://localhost:8080/",
          "height": 34
        }
      },
      "source": [
        "labels = {0:\"T-Shirt\", 1:\"Trouser\", 2:\"Pullover\", 3:\"Dress\", 4:\"Coat\",5:\"Sandal\",6:\"Shirt\",7:\"Sneaker\",8:\"Bag\",9:\"Ankle boot\"}\n",
        "print(labels[2])"
      ],
      "execution_count": 11,
      "outputs": [
        {
          "output_type": "stream",
          "text": [
            "Pullover\n"
          ],
          "name": "stdout"
        }
      ]
    },
    {
      "cell_type": "markdown",
      "metadata": {
        "id": "sVpnfu_rAqK7",
        "colab_type": "text"
      },
      "source": [
        "Create a mapper to translate the labels to actual readable names."
      ]
    },
    {
      "cell_type": "code",
      "metadata": {
        "id": "ihNPU7HyIlUk",
        "colab_type": "code",
        "colab": {}
      },
      "source": [
        "(x_train, y_train_input), (x_test, y_test_input) = fashion_mnist.load_data()"
      ],
      "execution_count": 0,
      "outputs": []
    },
    {
      "cell_type": "markdown",
      "metadata": {
        "id": "yYR2Uo4rKGwi",
        "colab_type": "text"
      },
      "source": [
        "The load_data() function on the dataset can be used for the datasets that are included in Keras. The other datasets that can be loaded in the same way can be found on the [Keras website](https://keras.io/datasets/). \n",
        "The load_data() function returns the train and test data set for the MNIST fashion data set. Both the test and train data are divided in two parts, the image and the label. x_train contains all the images we are going to use to train the neural network. The y_train contains all the labels for those images. \n"
      ]
    },
    {
      "cell_type": "code",
      "metadata": {
        "id": "Fu1IyLtRI_Ga",
        "colab_type": "code",
        "outputId": "a016b317-d957-481b-ed55-12a5f9d399a7",
        "colab": {
          "base_uri": "https://localhost:8080/",
          "height": 303
        }
      },
      "source": [
        "image_index = 9432 # Can be any number between 0 and 59999\n",
        "\n",
        "plt.imshow(x_train[image_index])\n",
        "plt.show()\n",
        "print(y_train_input[image_index])\n",
        "print(labels[y_train_input[image_index]])"
      ],
      "execution_count": 13,
      "outputs": [
        {
          "output_type": "display_data",
          "data": {
            "image/png": "[encoded data removed]",
            "text/plain": [
              "<Figure size 432x288 with 1 Axes>"
            ]
          },
          "metadata": {
            "tags": []
          }
        },
        {
          "output_type": "stream",
          "text": [
            "8\n",
            "Bag\n"
          ],
          "name": "stdout"
        }
      ]
    },
    {
      "cell_type": "markdown",
      "metadata": {
        "id": "vgeVD46YKAXb",
        "colab_type": "text"
      },
      "source": [
        "The *matplotlib.pyplot as plt* can be used to show the images in the dataset. \n",
        "We also print the label of that image, which is a number between 1 and 9. Using the mapping we created earlier we can convert this number to the actual name of the label. \n"
      ]
    },
    {
      "cell_type": "code",
      "metadata": {
        "id": "VRuWSJFxP4c4",
        "colab_type": "code",
        "outputId": "58751379-f73d-4cd3-ac29-a1c0fe660772",
        "colab": {
          "base_uri": "https://localhost:8080/",
          "height": 51
        }
      },
      "source": [
        "print(x_train.shape, y_train_input.shape, x_test.shape, y_test_input.shape)\n",
        "print(x_train[0][0][1])"
      ],
      "execution_count": 14,
      "outputs": [
        {
          "output_type": "stream",
          "text": [
            "(60000, 28, 28) (60000,) (10000, 28, 28) (10000,)\n",
            "0\n"
          ],
          "name": "stdout"
        }
      ]
    },
    {
      "cell_type": "markdown",
      "metadata": {
        "id": "7dMGDTALRXE4",
        "colab_type": "text"
      },
      "source": [
        "In machine learning it is really important to understand and have a feeling for the shapes of the data. \n",
        "Since we need to make sure the input data matches the first layer of the model.  Above we printed the shape of each data. For x_train this is (60000, 28, 28). This means we have a three-dimensional array that contains 60.000 * 28 * 28 data points (~47 million). The 60.000 are the number of images we have in the dataset. The 28, 28 are the height and the width of the images in pixels. Each datapoint is a number between 0 and 255, which represents the color of that pixel. \n",
        "\n",
        "The y_train is (60000,)  is a array with 60.000 datapoints. Each datapoint represent the label of the image and is a number between 1 and 9. "
      ]
    },
    {
      "cell_type": "code",
      "metadata": {
        "id": "OJ73y917P8pB",
        "colab_type": "code",
        "outputId": "538b08b4-f377-42ef-9340-2c3e38564662",
        "colab": {
          "base_uri": "https://localhost:8080/",
          "height": 34
        }
      },
      "source": [
        "image_size = 28*28\n",
        "x_train = x_train.reshape(x_train.shape[0], image_size) # Transform from matrix to vector\n",
        "x_train = x_train.astype('float32')\n",
        "x_train /= 255 # Normalize inputs from 0-255 to 0.0-1.0\n",
        "\n",
        "x_test = x_test.reshape(x_test.shape[0], image_size) # Transform from matrix to vector\n",
        "x_test = x_test.astype('float32')\n",
        "x_test /= 255 # Normalize inputs from 0-255 to 0.0-1.0\n",
        "\n",
        "print(x_train.shape, x_test.shape)"
      ],
      "execution_count": 15,
      "outputs": [
        {
          "output_type": "stream",
          "text": [
            "(60000, 784) (10000, 784)\n"
          ],
          "name": "stdout"
        }
      ]
    },
    {
      "cell_type": "markdown",
      "metadata": {
        "id": "LSYNQsx7TZh-",
        "colab_type": "text"
      },
      "source": [
        "The neural network that we are creating is not expecting two dimensional data. So we have translate the input data into a format the neural network can handle. So we can use the reshape function to change the format into a one dimensional array. Furthermore we normalize the data between 0.0 and 1.0, by dividing by 255. "
      ]
    },
    {
      "cell_type": "code",
      "metadata": {
        "id": "IhQ52etaWwle",
        "colab_type": "code",
        "outputId": "1a2a61f8-de62-4fd9-fb33-4be9ad66d70f",
        "colab": {
          "base_uri": "https://localhost:8080/",
          "height": 68
        }
      },
      "source": [
        "num_classes = 10\n",
        "y_train = keras.utils.to_categorical(y_train_input, num_classes)\n",
        "y_test = keras.utils.to_categorical(y_test_input, num_classes)\n",
        "print(y_train.shape, y_test.shape)\n",
        "\n",
        "index_y = 3\n",
        "print(y_train[index_y])\n",
        "print(y_train_input[index_y])\n"
      ],
      "execution_count": 16,
      "outputs": [
        {
          "output_type": "stream",
          "text": [
            "(60000, 10) (10000, 10)\n",
            "[0. 0. 0. 1. 0. 0. 0. 0. 0. 0.]\n",
            "3\n"
          ],
          "name": "stdout"
        }
      ]
    },
    {
      "cell_type": "markdown",
      "metadata": {
        "id": "8J-drBQ_ZN-Q",
        "colab_type": "text"
      },
      "source": [
        "![wow](https://github.com/Barttje/summercourse-ml/blob/master/one_hot_encoding.png?raw=true)\n",
        "\n"
      ]
    },
    {
      "cell_type": "markdown",
      "metadata": {
        "id": "TLJJOvYKyQtT",
        "colab_type": "text"
      },
      "source": [
        "#Creating and training the neural network"
      ]
    },
    {
      "cell_type": "code",
      "metadata": {
        "id": "rnOSVRnFYKH6",
        "colab_type": "code",
        "colab": {}
      },
      "source": [
        "model = Sequential()\n",
        "model.add(Dense(units=512, activation='relu', input_shape=(image_size,))) # Input layer\n",
        "model.add(Dropout(0.2))\n",
        "model.add(Dense(units=num_classes, activation='softmax')) # Output layer\n",
        "model.compile(optimizer=\"adam\", loss='categorical_crossentropy', metrics=['accuracy'])"
      ],
      "execution_count": 0,
      "outputs": []
    },
    {
      "cell_type": "markdown",
      "metadata": {
        "id": "qDyP7Nz3ZKu3",
        "colab_type": "text"
      },
      "source": [
        "Explain layers in the model"
      ]
    },
    {
      "cell_type": "code",
      "metadata": {
        "id": "nHjoWHgCYUyo",
        "colab_type": "code",
        "colab": {
          "base_uri": "https://localhost:8080/",
          "height": 374
        },
        "outputId": "4466b727-b49e-41bc-a88b-7e8c0fcc72d4"
      },
      "source": [
        "epochs = 10\n",
        "history = model.fit(x_train, y_train, validation_split=0.9, epochs=epochs)"
      ],
      "execution_count": 28,
      "outputs": [
        {
          "output_type": "stream",
          "text": [
            "Train on 5999 samples, validate on 54001 samples\n",
            "Epoch 1/10\n",
            "5999/5999 [==============================] - 5s 801us/step - loss: 0.7714 - acc: 0.7355 - val_loss: 0.5572 - val_acc: 0.8020\n",
            "Epoch 2/10\n",
            "5999/5999 [==============================] - 4s 746us/step - loss: 0.5177 - acc: 0.8153 - val_loss: 0.4940 - val_acc: 0.8267\n",
            "Epoch 3/10\n",
            "5999/5999 [==============================] - 4s 747us/step - loss: 0.4621 - acc: 0.8408 - val_loss: 0.5202 - val_acc: 0.8124\n",
            "Epoch 4/10\n",
            "5999/5999 [==============================] - 4s 742us/step - loss: 0.4151 - acc: 0.8531 - val_loss: 0.4531 - val_acc: 0.8417\n",
            "Epoch 5/10\n",
            "5999/5999 [==============================] - 5s 753us/step - loss: 0.3933 - acc: 0.8581 - val_loss: 0.4777 - val_acc: 0.8282\n",
            "Epoch 6/10\n",
            "5999/5999 [==============================] - 5s 753us/step - loss: 0.3615 - acc: 0.8695 - val_loss: 0.4511 - val_acc: 0.8353\n",
            "Epoch 7/10\n",
            "5999/5999 [==============================] - 5s 756us/step - loss: 0.3538 - acc: 0.8700 - val_loss: 0.4663 - val_acc: 0.8390\n",
            "Epoch 8/10\n",
            "5999/5999 [==============================] - 5s 752us/step - loss: 0.3240 - acc: 0.8790 - val_loss: 0.4356 - val_acc: 0.8499\n",
            "Epoch 9/10\n",
            "5999/5999 [==============================] - 5s 761us/step - loss: 0.3243 - acc: 0.8840 - val_loss: 0.4794 - val_acc: 0.8314\n",
            "Epoch 10/10\n",
            "5999/5999 [==============================] - 4s 742us/step - loss: 0.2984 - acc: 0.8918 - val_loss: 0.4283 - val_acc: 0.8530\n"
          ],
          "name": "stdout"
        }
      ]
    },
    {
      "cell_type": "markdown",
      "metadata": {
        "id": "j50yPJq6ZFY4",
        "colab_type": "text"
      },
      "source": [
        "explain epochs, optionally batch_size, learning rate etc."
      ]
    },
    {
      "cell_type": "code",
      "metadata": {
        "id": "O_9m3bWmYzZi",
        "colab_type": "code",
        "colab": {
          "base_uri": "https://localhost:8080/",
          "height": 51
        },
        "outputId": "213bd4cf-98d2-410a-9c0d-ba79dd2c63da"
      },
      "source": [
        "loss, accuracy  = model.evaluate(x_test, y_test)\n",
        "print(loss, accuracy)"
      ],
      "execution_count": 29,
      "outputs": [
        {
          "output_type": "stream",
          "text": [
            "10000/10000 [==============================] - 1s 61us/step\n",
            "0.45548880686759946 0.8394\n"
          ],
          "name": "stdout"
        }
      ]
    },
    {
      "cell_type": "markdown",
      "metadata": {
        "id": "zueKzFx_Y-0L",
        "colab_type": "text"
      },
      "source": [
        "explain loss and accuracy"
      ]
    },
    {
      "cell_type": "markdown",
      "metadata": {
        "id": "zsQl05l3yXDW",
        "colab_type": "text"
      },
      "source": [
        "#Applying the model"
      ]
    },
    {
      "cell_type": "code",
      "metadata": {
        "id": "pIgN8-_4ZRNO",
        "colab_type": "code",
        "colab": {
          "base_uri": "https://localhost:8080/",
          "height": 371
        },
        "outputId": "4855a2f1-e066-4cf5-d590-1ba7879e7650"
      },
      "source": [
        "index = 4\n",
        "pred = model.predict(x_test[-index:-index+1]) \n",
        "print(pred)\n",
        "print(pred.argmax(), labels[pred.argmax()])\n",
        "print(y_test[-index:-index+1].argmax(), labels[y_test[-index:-index+1].argmax()] )\n",
        "plt.imshow(x_test[-index:-index+1][0].reshape(28,28))\n",
        "\n"
      ],
      "execution_count": 20,
      "outputs": [
        {
          "output_type": "stream",
          "text": [
            "[[2.12107392e-04 9.99539495e-01 1.03912807e-05 2.07462639e-04\n",
            "  2.11211045e-05 1.08167995e-07 6.37396261e-06 1.56440088e-08\n",
            "  2.90344451e-06 4.35488836e-08]]\n",
            "1 Trouser\n",
            "1 Trouser\n"
          ],
          "name": "stdout"
        },
        {
          "output_type": "execute_result",
          "data": {
            "text/plain": [
              "<matplotlib.image.AxesImage at 0x7f5951b9a3c8>"
            ]
          },
          "metadata": {
            "tags": []
          },
          "execution_count": 20
        },
        {
          "output_type": "display_data",
          "data": {
            "image/png": "[encoded data removed]",
            "text/plain": [
              "<Figure size 432x288 with 1 Axes>"
            ]
          },
          "metadata": {
            "tags": []
          }
        }
      ]
    },
    {
      "cell_type": "markdown",
      "metadata": {
        "id": "laSiVkUBeCpT",
        "colab_type": "text"
      },
      "source": [
        "explain prediction, explain arg max, compare with actual class"
      ]
    },
    {
      "cell_type": "code",
      "metadata": {
        "id": "lw49O5z7wGtt",
        "colab_type": "code",
        "colab": {
          "base_uri": "https://localhost:8080/",
          "height": 607
        },
        "outputId": "3b31bc49-d697-4260-840a-e272b7947371"
      },
      "source": [
        "print(history.history.keys())\n",
        "# list all data in history\n",
        "print(history.history.keys())\n",
        "# summarize history for accuracy\n",
        "plt.plot(history.history['acc'])\n",
        "plt.plot(history.history['val_acc'])\n",
        "plt.title('model accuracy')\n",
        "plt.ylabel('accuracy')\n",
        "plt.xlabel('epoch')\n",
        "plt.legend(['train', 'test'], loc='upper left')\n",
        "plt.show()\n",
        "# summarize history for loss\n",
        "plt.plot(history.history['loss'])\n",
        "plt.plot(history.history['val_loss'])\n",
        "plt.title('model loss')\n",
        "plt.ylabel('loss')\n",
        "plt.xlabel('epoch')\n",
        "plt.legend(['train', 'test'], loc='upper left')\n",
        "plt.show()"
      ],
      "execution_count": 30,
      "outputs": [
        {
          "output_type": "stream",
          "text": [
            "dict_keys(['val_loss', 'val_acc', 'loss', 'acc'])\n",
            "dict_keys(['val_loss', 'val_acc', 'loss', 'acc'])\n"
          ],
          "name": "stdout"
        },
        {
          "output_type": "display_data",
          "data": {
            "image/png": "[encoded data removed]",
            "text/plain": [
              "<Figure size 432x288 with 1 Axes>"
            ]
          },
          "metadata": {
            "tags": []
          }
        },
        {
          "output_type": "display_data",
          "data": {
            "image/png": "[encoded data removed]",
            "text/plain": [
              "<Figure size 432x288 with 1 Axes>"
            ]
          },
          "metadata": {
            "tags": []
          }
        }
      ]
    },
    {
      "cell_type": "markdown",
      "metadata": {
        "id": "04-OVVJ9GAmQ",
        "colab_type": "text"
      },
      "source": [
        "##Overfitting and Underfitting\n",
        "Explain overfitting and underfitting\n",
        "![Overfitting,underfitting and balanced](https://github.com/Barttje/summercourse-ml/blob/master/Overfitting_underfitting.png?raw=true)\n",
        "### Detecting overfitting/underfitting\n",
        "How to detect underfitting,overfitting. \n",
        "\n",
        "#### Handling overfitting\n",
        "\n",
        "#### Handling underfitting\n",
        "Try more input data. \n",
        "Try more epochs. Check if score is increasing\n",
        "Try more layers, different model, different activation function. more input data etc. \n"
      ]
    }
  ]
}